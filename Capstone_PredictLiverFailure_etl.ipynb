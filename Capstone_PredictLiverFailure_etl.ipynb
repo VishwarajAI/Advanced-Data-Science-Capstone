{
  "nbformat": 4,
  "nbformat_minor": 0,
  "metadata": {
    "kernelspec": {
      "display_name": "Python 3.5 with Spark",
      "name": "python3",
      "language": "python3"
    },
    "language_info": {
      "mimetype": "text/x-python",
      "nbconvert_exporter": "python",
      "version": "3.5.4",
      "name": "python",
      "file_extension": ".py",
      "pygments_lexer": "ipython3",
      "codemirror_mode": {
        "version": 3,
        "name": "ipython"
      }
    },
    "colab": {
      "name": "Capstone_PredictLiverFailure.etl.ipynb",
      "provenance": []
    }
  },
  "cells": [
    {
      "cell_type": "markdown",
      "metadata": {
        "collapsed": true,
        "id": "ss-T1VrihSzW"
      },
      "source": [
        "# Predict Liver Failure based on People's Demographics\n",
        "\n",
        "***(ETL Notebook)***"
      ]
    },
    {
      "cell_type": "markdown",
      "metadata": {
        "id": "jOW050VfhSzY"
      },
      "source": [
        "## 1. Introduction\n",
        "\n",
        "Liver is the largest organ in the body of a Human being and other vertebrates, detoxifies various metabolites, synthesizes proteins, and produces biochemicals necessary for digestion. Its other roles in metabolism include the regulation of glycogen storage, decomposition of red blood cells and the production of hormones.\n",
        "\n",
        "Liver Failure is a loss of liver function that could occur slowly (Chronic Liver Failure) or rapidly (Acute Liver Failure). There is no known way to compensate the absence of the liver function in the long term which makes Liver Failure a serious disease to worry about.\n",
        "\n",
        "The commonly known causes for liver failure are paracetamol overdose, excessive alcohol consumption, viral hepatitis, food poisoning etc."
      ]
    },
    {
      "cell_type": "markdown",
      "metadata": {
        "id": "IU-PlSHKhSzZ"
      },
      "source": [
        "## 2. Data\n",
        "\n",
        "### 2.1. Data Collection\n",
        "\n",
        "As part of this Data Science project, our goal is to try and see if we can predict the possibility of a liver failure given the demographics of people. \n",
        "\n",
        "For this purpose, we will be using demographics and health information of people which is made available to us by the JPAC Center for Health Diagnosis and Control. Since 1990, they have conducted nationwide surveys using trained personnel and have collected a wide variety of demographic and health information using direct interviews, examinations, and blood samples. This dataset consists of selected information from 8,785 adults 20 years of age or older taken from the 2008–2009 and 2014–2015 surveys.\n",
        "\n",
        "Our Goal is to try and use this data and build a Machine Learning Model that will help us in predicting the possibility of a liver failure in individuals using their demographics and health information."
      ]
    },
    {
      "cell_type": "markdown",
      "metadata": {
        "id": "Z0o__hddhSza"
      },
      "source": [
        "Let us start by downloading this dataset which is made available to use on Kaggle and then transform this to a pandas dataframe for ease of data exploration."
      ]
    },
    {
      "cell_type": "code",
      "metadata": {
        "id": "6MVS3CHuhSza",
        "outputId": "8c3bbc7a-f28d-443e-9c65-a331ee88ccec"
      },
      "source": [
        "# import required packages and libraries\n",
        "import types\n",
        "import pandas as pd\n",
        "import numpy as np\n",
        "\n",
        "from ibm_botocore.client import Config\n",
        "import ibm_boto3\n",
        "import ibmos2spark\n",
        "\n",
        "from pyspark.mllib.stat import Statistics"
      ],
      "execution_count": null,
      "outputs": [
        {
          "output_type": "stream",
          "text": [
            "Waiting for a Spark session to start...\n",
            "Spark Initialization Done! ApplicationId = app-20190405072400-0000\n",
            "KERNEL_ID = c4338e44-5df8-48c9-a24d-f84d6c8ee9cd\n"
          ],
          "name": "stdout"
        }
      ]
    },
    {
      "cell_type": "code",
      "metadata": {
        "id": "uYnOJ4F4hSzb",
        "outputId": "c51be9d1-2c76-4d18-a9b3-c2f7dc9924b6"
      },
      "source": [
        "def __iter__(self): return 0\n",
        "\n",
        "# The following code accesses a file in your IBM Cloud Object Storage. It includes your credentials.\n",
        "# You might want to remove those credentials before you share your notebook.\n",
        "client_85bf8a7fa4e54387abd3bbb49b9490af = ibm_boto3.client(service_name='s3',\n",
        "    ibm_api_key_id='yR6pr44dLxKcEe_-J-YBRKtI9LaoOcG9v_c2zK_I1epP',\n",
        "    ibm_auth_endpoint=\"https://iam.bluemix.net/oidc/token\",\n",
        "    config=Config(signature_version='oauth'),\n",
        "    endpoint_url='https://s3-api.us-geo.objectstorage.service.networklayer.com')\n",
        "\n",
        "body = client_85bf8a7fa4e54387abd3bbb49b9490af.get_object(Bucket='fundamentalsofscalabledatascience-donotdelete-pr-qbkdskud4vsck0',Key='ALF_Data.csv')['Body']\n",
        "# add missing __iter__ method, so pandas accepts body as file-like object\n",
        "if not hasattr(body, \"__iter__\"): body.__iter__ = types.MethodType( __iter__, body )\n",
        "\n",
        "df_data = pd.read_csv(body)\n",
        "df_data.head()"
      ],
      "execution_count": null,
      "outputs": [
        {
          "output_type": "execute_result",
          "data": {
            "text/plain": [
              "   Age Gender Region  Weight  Height  Body Mass Index  Obesity  Waist  \\\n",
              "0   65      M   east    56.0   162.1            21.31      0.0   83.6   \n",
              "1   36      M  south    60.2   162.2            22.88      0.0   76.6   \n",
              "2   66      M   east    83.9   162.5            31.77      1.0  113.2   \n",
              "3   54      M   east    69.4   160.5            26.94      0.0   77.9   \n",
              "4   63      M  north    73.1   159.2            28.84      0.0   89.3   \n",
              "\n",
              "   Maximum Blood Pressure  Minimum Blood Pressure ...   PoorVision  \\\n",
              "0                   135.0                    71.0 ...          0.0   \n",
              "1                    96.0                    52.0 ...          0.0   \n",
              "2                   115.0                    57.0 ...          0.0   \n",
              "3                   110.0                    57.0 ...          0.0   \n",
              "4                   132.0                    73.0 ...          0.0   \n",
              "\n",
              "   Alcohol Consumption  HyperTension  Family  HyperTension  Diabetes  \\\n",
              "0                    1           0.0                     0       0.0   \n",
              "1                    0           0.0                     0       0.0   \n",
              "2                    1           0.0                     0       1.0   \n",
              "3                    1           0.0                     0       0.0   \n",
              "4                    0           1.0                     0       0.0   \n",
              "\n",
              "   Family Diabetes  Hepatitis  Family Hepatitis  Chronic Fatigue  ALF  \n",
              "0                1        1.0               0.0              0.0  0.0  \n",
              "1                0        0.0               0.0              0.0  0.0  \n",
              "2                0        0.0               0.0              0.0  0.0  \n",
              "3                0        0.0               0.0              0.0  0.0  \n",
              "4                0        0.0               0.0              0.0  0.0  \n",
              "\n",
              "[5 rows x 30 columns]"
            ],
            "text/html": [
              "<div>\n",
              "<style scoped>\n",
              "    .dataframe tbody tr th:only-of-type {\n",
              "        vertical-align: middle;\n",
              "    }\n",
              "\n",
              "    .dataframe tbody tr th {\n",
              "        vertical-align: top;\n",
              "    }\n",
              "\n",
              "    .dataframe thead th {\n",
              "        text-align: right;\n",
              "    }\n",
              "</style>\n",
              "<table border=\"1\" class=\"dataframe\">\n",
              "  <thead>\n",
              "    <tr style=\"text-align: right;\">\n",
              "      <th></th>\n",
              "      <th>Age</th>\n",
              "      <th>Gender</th>\n",
              "      <th>Region</th>\n",
              "      <th>Weight</th>\n",
              "      <th>Height</th>\n",
              "      <th>Body Mass Index</th>\n",
              "      <th>Obesity</th>\n",
              "      <th>Waist</th>\n",
              "      <th>Maximum Blood Pressure</th>\n",
              "      <th>Minimum Blood Pressure</th>\n",
              "      <th>...</th>\n",
              "      <th>PoorVision</th>\n",
              "      <th>Alcohol Consumption</th>\n",
              "      <th>HyperTension</th>\n",
              "      <th>Family  HyperTension</th>\n",
              "      <th>Diabetes</th>\n",
              "      <th>Family Diabetes</th>\n",
              "      <th>Hepatitis</th>\n",
              "      <th>Family Hepatitis</th>\n",
              "      <th>Chronic Fatigue</th>\n",
              "      <th>ALF</th>\n",
              "    </tr>\n",
              "  </thead>\n",
              "  <tbody>\n",
              "    <tr>\n",
              "      <th>0</th>\n",
              "      <td>65</td>\n",
              "      <td>M</td>\n",
              "      <td>east</td>\n",
              "      <td>56.0</td>\n",
              "      <td>162.1</td>\n",
              "      <td>21.31</td>\n",
              "      <td>0.0</td>\n",
              "      <td>83.6</td>\n",
              "      <td>135.0</td>\n",
              "      <td>71.0</td>\n",
              "      <td>...</td>\n",
              "      <td>0.0</td>\n",
              "      <td>1</td>\n",
              "      <td>0.0</td>\n",
              "      <td>0</td>\n",
              "      <td>0.0</td>\n",
              "      <td>1</td>\n",
              "      <td>1.0</td>\n",
              "      <td>0.0</td>\n",
              "      <td>0.0</td>\n",
              "      <td>0.0</td>\n",
              "    </tr>\n",
              "    <tr>\n",
              "      <th>1</th>\n",
              "      <td>36</td>\n",
              "      <td>M</td>\n",
              "      <td>south</td>\n",
              "      <td>60.2</td>\n",
              "      <td>162.2</td>\n",
              "      <td>22.88</td>\n",
              "      <td>0.0</td>\n",
              "      <td>76.6</td>\n",
              "      <td>96.0</td>\n",
              "      <td>52.0</td>\n",
              "      <td>...</td>\n",
              "      <td>0.0</td>\n",
              "      <td>0</td>\n",
              "      <td>0.0</td>\n",
              "      <td>0</td>\n",
              "      <td>0.0</td>\n",
              "      <td>0</td>\n",
              "      <td>0.0</td>\n",
              "      <td>0.0</td>\n",
              "      <td>0.0</td>\n",
              "      <td>0.0</td>\n",
              "    </tr>\n",
              "    <tr>\n",
              "      <th>2</th>\n",
              "      <td>66</td>\n",
              "      <td>M</td>\n",
              "      <td>east</td>\n",
              "      <td>83.9</td>\n",
              "      <td>162.5</td>\n",
              "      <td>31.77</td>\n",
              "      <td>1.0</td>\n",
              "      <td>113.2</td>\n",
              "      <td>115.0</td>\n",
              "      <td>57.0</td>\n",
              "      <td>...</td>\n",
              "      <td>0.0</td>\n",
              "      <td>1</td>\n",
              "      <td>0.0</td>\n",
              "      <td>0</td>\n",
              "      <td>1.0</td>\n",
              "      <td>0</td>\n",
              "      <td>0.0</td>\n",
              "      <td>0.0</td>\n",
              "      <td>0.0</td>\n",
              "      <td>0.0</td>\n",
              "    </tr>\n",
              "    <tr>\n",
              "      <th>3</th>\n",
              "      <td>54</td>\n",
              "      <td>M</td>\n",
              "      <td>east</td>\n",
              "      <td>69.4</td>\n",
              "      <td>160.5</td>\n",
              "      <td>26.94</td>\n",
              "      <td>0.0</td>\n",
              "      <td>77.9</td>\n",
              "      <td>110.0</td>\n",
              "      <td>57.0</td>\n",
              "      <td>...</td>\n",
              "      <td>0.0</td>\n",
              "      <td>1</td>\n",
              "      <td>0.0</td>\n",
              "      <td>0</td>\n",
              "      <td>0.0</td>\n",
              "      <td>0</td>\n",
              "      <td>0.0</td>\n",
              "      <td>0.0</td>\n",
              "      <td>0.0</td>\n",
              "      <td>0.0</td>\n",
              "    </tr>\n",
              "    <tr>\n",
              "      <th>4</th>\n",
              "      <td>63</td>\n",
              "      <td>M</td>\n",
              "      <td>north</td>\n",
              "      <td>73.1</td>\n",
              "      <td>159.2</td>\n",
              "      <td>28.84</td>\n",
              "      <td>0.0</td>\n",
              "      <td>89.3</td>\n",
              "      <td>132.0</td>\n",
              "      <td>73.0</td>\n",
              "      <td>...</td>\n",
              "      <td>0.0</td>\n",
              "      <td>0</td>\n",
              "      <td>1.0</td>\n",
              "      <td>0</td>\n",
              "      <td>0.0</td>\n",
              "      <td>0</td>\n",
              "      <td>0.0</td>\n",
              "      <td>0.0</td>\n",
              "      <td>0.0</td>\n",
              "      <td>0.0</td>\n",
              "    </tr>\n",
              "  </tbody>\n",
              "</table>\n",
              "<p>5 rows × 30 columns</p>\n",
              "</div>"
            ]
          },
          "metadata": {
            "tags": []
          },
          "execution_count": 2
        }
      ]
    },
    {
      "cell_type": "markdown",
      "metadata": {
        "id": "dBCLexAkhSzc"
      },
      "source": [
        "Let us check the size of this dataset."
      ]
    },
    {
      "cell_type": "code",
      "metadata": {
        "id": "z6Me3zOihSzd",
        "outputId": "bd9587f0-4bb3-40d7-8c77-e8353f106315"
      },
      "source": [
        "df_data.shape"
      ],
      "execution_count": null,
      "outputs": [
        {
          "output_type": "execute_result",
          "data": {
            "text/plain": [
              "(8785, 30)"
            ]
          },
          "metadata": {
            "tags": []
          },
          "execution_count": 3
        }
      ]
    },
    {
      "cell_type": "markdown",
      "metadata": {
        "id": "BVOttRQyhSze"
      },
      "source": [
        "This dataset has data about 8785 people. There are 29 features which are made available and there is one Target Variable / Label which will tell us if the person has or is prone to a Liver Failure."
      ]
    },
    {
      "cell_type": "markdown",
      "metadata": {
        "id": "gWY9GrIIhSzf"
      },
      "source": [
        "### 2.2. Exploratory Data Analysis\n",
        "\n",
        "Now let us explore the dataset further to understand the features made available to us, identify any potential data quality issues and identify the columns that we will be using for creating out Machine Learning model which will help predict Liver Failures."
      ]
    },
    {
      "cell_type": "markdown",
      "metadata": {
        "id": "zEn5gNV_hSzf"
      },
      "source": [
        "Let us start by taking a look at the columns and the data."
      ]
    },
    {
      "cell_type": "code",
      "metadata": {
        "id": "2xfgNmb7hSzg",
        "outputId": "c8da6713-d8a8-4bf0-d4ec-61b499ef1f1a"
      },
      "source": [
        "df_data.columns"
      ],
      "execution_count": null,
      "outputs": [
        {
          "output_type": "execute_result",
          "data": {
            "text/plain": [
              "Index(['Age', 'Gender', 'Region', 'Weight', 'Height', 'Body Mass Index',\n",
              "       'Obesity', 'Waist', 'Maximum Blood Pressure', 'Minimum Blood Pressure',\n",
              "       'Good Cholesterol', 'Bad Cholesterol', 'Total Cholesterol',\n",
              "       'Dyslipidemia', 'PVD', 'Physical Activity', 'Education', 'Unmarried',\n",
              "       'Income', 'Source of Care', 'PoorVision', 'Alcohol Consumption',\n",
              "       'HyperTension', 'Family  HyperTension', 'Diabetes', 'Family Diabetes',\n",
              "       'Hepatitis', 'Family Hepatitis', 'Chronic Fatigue', 'ALF'],\n",
              "      dtype='object')"
            ]
          },
          "metadata": {
            "tags": []
          },
          "execution_count": 4
        }
      ]
    },
    {
      "cell_type": "code",
      "metadata": {
        "id": "-ZL9th0MhSzg",
        "outputId": "a1cb4902-4026-46b7-b1ea-b6f7ae4ffde1"
      },
      "source": [
        "df_data.count(axis=0)"
      ],
      "execution_count": null,
      "outputs": [
        {
          "output_type": "execute_result",
          "data": {
            "text/plain": [
              "Age                       8785\n",
              "Gender                    8785\n",
              "Region                    8785\n",
              "Weight                    8591\n",
              "Height                    8594\n",
              "Body Mass Index           8495\n",
              "Obesity                   8495\n",
              "Waist                     8471\n",
              "Maximum Blood Pressure    8481\n",
              "Minimum Blood Pressure    8409\n",
              "Good Cholesterol          8768\n",
              "Bad Cholesterol           8767\n",
              "Total Cholesterol         8769\n",
              "Dyslipidemia              8785\n",
              "PVD                       8785\n",
              "Physical Activity         8775\n",
              "Education                 8765\n",
              "Unmarried                 8333\n",
              "Income                    7624\n",
              "Source of Care            8785\n",
              "PoorVision                8222\n",
              "Alcohol Consumption       8785\n",
              "HyperTension              8705\n",
              "Family  HyperTension      8785\n",
              "Diabetes                  8783\n",
              "Family Diabetes           8785\n",
              "Hepatitis                 8763\n",
              "Family Hepatitis          8779\n",
              "Chronic Fatigue           8750\n",
              "ALF                       6000\n",
              "dtype: int64"
            ]
          },
          "metadata": {
            "tags": []
          },
          "execution_count": 5
        }
      ]
    },
    {
      "cell_type": "markdown",
      "metadata": {
        "id": "LNoFUNwEhSzh"
      },
      "source": [
        "Based on the above list of columns and the data count in each we can observe the following:\n",
        "* Some of the Column names have spaces in them\n",
        "* There is some missing data.  \n",
        "\n",
        "Let us first update the column names to remove the spaces in them."
      ]
    },
    {
      "cell_type": "code",
      "metadata": {
        "id": "fID3DIKihSzi"
      },
      "source": [
        "df_data.rename(index = str, columns = {'Body Mass Index':'BodyMassIndex', 'Maximum Blood Pressure':'MaximumBloodPressure',\n",
        "                                       'Minimum Blood Pressure':'MinimumBloodPressure', 'Good Cholesterol':'GoodCholesterol',\n",
        "                                       'Bad Cholesterol':'BadCholesterol', 'Total Cholesterol':'TotalCholesterol',\n",
        "                                       'Physical Activity':'PhysicalActivity', 'Source of Care':'SourceOfCare',\n",
        "                                       'Alcohol Consumption':'AlcoholConsumption', 'Family  HyperTension':'FamilyHyperTension',\n",
        "                                       'Family Diabetes':'FamilyDiabetes', 'Family Hepatitis':'FamilyHepatitis',\n",
        "                                       'Chronic Fatigue':'ChronicFatigue'}, inplace = True)"
      ],
      "execution_count": null,
      "outputs": []
    },
    {
      "cell_type": "markdown",
      "metadata": {
        "id": "v--jx9zyhSzj"
      },
      "source": [
        "Now let us analyze the missing data and see how to address this.\n",
        "\n",
        "The first column is \"ALF\" which is the target variable / Label that we will be predict. This column has values only for 6000 rows. This means that we will need to remove the remaining 2785 columns from the dataset as this data cannot be used for training our model. We can save these 2785 records in a different dataset and try predicting them at a later point in time using our machine learning model."
      ]
    },
    {
      "cell_type": "code",
      "metadata": {
        "id": "D8N4mpVxhSzj",
        "outputId": "72fec863-b84b-4a01-c3b7-ecb8af7b9205"
      },
      "source": [
        "df_data = df_data[df_data.ALF.notnull()]\n",
        "df_data.count(axis=0)"
      ],
      "execution_count": null,
      "outputs": [
        {
          "output_type": "execute_result",
          "data": {
            "text/plain": [
              "Age                     6000\n",
              "Gender                  6000\n",
              "Region                  6000\n",
              "Weight                  5867\n",
              "Height                  5861\n",
              "BodyMassIndex           5794\n",
              "Obesity                 5794\n",
              "Waist                   5785\n",
              "MaximumBloodPressure    5794\n",
              "MinimumBloodPressure    5748\n",
              "GoodCholesterol         5992\n",
              "BadCholesterol          5992\n",
              "TotalCholesterol        5994\n",
              "Dyslipidemia            6000\n",
              "PVD                     6000\n",
              "PhysicalActivity        5992\n",
              "Education               5985\n",
              "Unmarried               5699\n",
              "Income                  5208\n",
              "SourceOfCare            6000\n",
              "PoorVision              5624\n",
              "AlcoholConsumption      6000\n",
              "HyperTension            5947\n",
              "FamilyHyperTension      6000\n",
              "Diabetes                5999\n",
              "FamilyDiabetes          6000\n",
              "Hepatitis               5987\n",
              "FamilyHepatitis         5997\n",
              "ChronicFatigue          5974\n",
              "ALF                     6000\n",
              "dtype: int64"
            ]
          },
          "metadata": {
            "tags": []
          },
          "execution_count": 7
        }
      ]
    },
    {
      "cell_type": "markdown",
      "metadata": {
        "id": "U176gRdxhSzk"
      },
      "source": [
        "Now we still have data missing for the columns BMI, Waist, Maximum Blood Pressue, Minimum Blood Pressure and Good/Bad/Total Cholestrol. This missing data constitutes for about 8% of our dataset. Since this missing data constitues for a small percentage if our data set, let us remove these rows instead of assuming their values."
      ]
    },
    {
      "cell_type": "code",
      "metadata": {
        "id": "BbVE0EhehSzk",
        "outputId": "0510d080-c57e-48e2-fa96-7d8324ebe0b4"
      },
      "source": [
        "df_data = df_data[df_data.BodyMassIndex.notnull()]\n",
        "df_data = df_data[df_data.MaximumBloodPressure.notnull()]\n",
        "df_data = df_data[df_data.MinimumBloodPressure.notnull()]\n",
        "df_data = df_data[df_data.Waist.notnull()]\n",
        "df_data = df_data[df_data.GoodCholesterol.notna()]\n",
        "df_data.count(axis=0)"
      ],
      "execution_count": null,
      "outputs": [
        {
          "output_type": "execute_result",
          "data": {
            "text/plain": [
              "Age                     5521\n",
              "Gender                  5521\n",
              "Region                  5521\n",
              "Weight                  5521\n",
              "Height                  5521\n",
              "BodyMassIndex           5521\n",
              "Obesity                 5521\n",
              "Waist                   5521\n",
              "MaximumBloodPressure    5521\n",
              "MinimumBloodPressure    5521\n",
              "GoodCholesterol         5521\n",
              "BadCholesterol          5521\n",
              "TotalCholesterol        5521\n",
              "Dyslipidemia            5521\n",
              "PVD                     5521\n",
              "PhysicalActivity        5513\n",
              "Education               5511\n",
              "Unmarried               5233\n",
              "Income                  4801\n",
              "SourceOfCare            5521\n",
              "PoorVision              5294\n",
              "AlcoholConsumption      5521\n",
              "HyperTension            5475\n",
              "FamilyHyperTension      5521\n",
              "Diabetes                5520\n",
              "FamilyDiabetes          5521\n",
              "Hepatitis               5510\n",
              "FamilyHepatitis         5518\n",
              "ChronicFatigue          5500\n",
              "ALF                     5521\n",
              "dtype: int64"
            ]
          },
          "metadata": {
            "tags": []
          },
          "execution_count": 8
        }
      ]
    },
    {
      "cell_type": "markdown",
      "metadata": {
        "id": "l8fI49V9hSzk"
      },
      "source": [
        "Let us now look at the remaining missing values. The next feature for which data is missing is Physical activity. Let us analyze this further."
      ]
    },
    {
      "cell_type": "code",
      "metadata": {
        "id": "mtbIbIj6hSzk",
        "outputId": "95de33d0-e87f-4cc6-9553-3ff95ea707f2"
      },
      "source": [
        "df_data[df_data.PhysicalActivity.isna()].Age"
      ],
      "execution_count": null,
      "outputs": [
        {
          "output_type": "execute_result",
          "data": {
            "text/plain": [
              "1283    84\n",
              "1401    48\n",
              "3999    77\n",
              "4015    84\n",
              "4402    75\n",
              "4650    69\n",
              "4817    85\n",
              "5503    68\n",
              "Name: Age, dtype: int64"
            ]
          },
          "metadata": {
            "tags": []
          },
          "execution_count": 9
        }
      ]
    },
    {
      "cell_type": "code",
      "metadata": {
        "id": "anv1on43hSzl",
        "outputId": "48a7aa4a-daf7-4cc3-f627-96aa9c589efd"
      },
      "source": [
        "df_data[df_data[['PhysicalActivity', 'Age']].Age>47][['PhysicalActivity', 'Age']] \\\n",
        ".groupby('PhysicalActivity').count()"
      ],
      "execution_count": null,
      "outputs": [
        {
          "output_type": "execute_result",
          "data": {
            "text/plain": [
              "                   Age\n",
              "PhysicalActivity      \n",
              "1.0                711\n",
              "2.0               1511\n",
              "3.0                332\n",
              "4.0                 96"
            ],
            "text/html": [
              "<div>\n",
              "<style scoped>\n",
              "    .dataframe tbody tr th:only-of-type {\n",
              "        vertical-align: middle;\n",
              "    }\n",
              "\n",
              "    .dataframe tbody tr th {\n",
              "        vertical-align: top;\n",
              "    }\n",
              "\n",
              "    .dataframe thead th {\n",
              "        text-align: right;\n",
              "    }\n",
              "</style>\n",
              "<table border=\"1\" class=\"dataframe\">\n",
              "  <thead>\n",
              "    <tr style=\"text-align: right;\">\n",
              "      <th></th>\n",
              "      <th>Age</th>\n",
              "    </tr>\n",
              "    <tr>\n",
              "      <th>PhysicalActivity</th>\n",
              "      <th></th>\n",
              "    </tr>\n",
              "  </thead>\n",
              "  <tbody>\n",
              "    <tr>\n",
              "      <th>1.0</th>\n",
              "      <td>711</td>\n",
              "    </tr>\n",
              "    <tr>\n",
              "      <th>2.0</th>\n",
              "      <td>1511</td>\n",
              "    </tr>\n",
              "    <tr>\n",
              "      <th>3.0</th>\n",
              "      <td>332</td>\n",
              "    </tr>\n",
              "    <tr>\n",
              "      <th>4.0</th>\n",
              "      <td>96</td>\n",
              "    </tr>\n",
              "  </tbody>\n",
              "</table>\n",
              "</div>"
            ]
          },
          "metadata": {
            "tags": []
          },
          "execution_count": 10
        }
      ]
    },
    {
      "cell_type": "markdown",
      "metadata": {
        "id": "uYvKPWSvhSzl"
      },
      "source": [
        "Based on the above data we can observe the following:\n",
        "1. Physical Activity data is missing for 8 people. \n",
        "    * 7 people have ages > 65\n",
        "    * 1 person has age = 48\n",
        "2. Most of the people with age > 47 (~58%) have a Physical Activity value of (2.0).\n",
        "\n",
        "So we can safely assume the missing physical activity values to be 2.0."
      ]
    },
    {
      "cell_type": "code",
      "metadata": {
        "id": "5huSRsVthSzl",
        "outputId": "4c42eb1b-5a05-4367-b308-9019800c7f07"
      },
      "source": [
        "df_data['PhysicalActivity'] = df_data['PhysicalActivity'].replace(np.NaN, 2.0)\n",
        "df_data.count(axis = 0)"
      ],
      "execution_count": null,
      "outputs": [
        {
          "output_type": "execute_result",
          "data": {
            "text/plain": [
              "Age                     5521\n",
              "Gender                  5521\n",
              "Region                  5521\n",
              "Weight                  5521\n",
              "Height                  5521\n",
              "BodyMassIndex           5521\n",
              "Obesity                 5521\n",
              "Waist                   5521\n",
              "MaximumBloodPressure    5521\n",
              "MinimumBloodPressure    5521\n",
              "GoodCholesterol         5521\n",
              "BadCholesterol          5521\n",
              "TotalCholesterol        5521\n",
              "Dyslipidemia            5521\n",
              "PVD                     5521\n",
              "PhysicalActivity        5521\n",
              "Education               5511\n",
              "Unmarried               5233\n",
              "Income                  4801\n",
              "SourceOfCare            5521\n",
              "PoorVision              5294\n",
              "AlcoholConsumption      5521\n",
              "HyperTension            5475\n",
              "FamilyHyperTension      5521\n",
              "Diabetes                5520\n",
              "FamilyDiabetes          5521\n",
              "Hepatitis               5510\n",
              "FamilyHepatitis         5518\n",
              "ChronicFatigue          5500\n",
              "ALF                     5521\n",
              "dtype: int64"
            ]
          },
          "metadata": {
            "tags": []
          },
          "execution_count": 11
        }
      ]
    },
    {
      "cell_type": "markdown",
      "metadata": {
        "id": "WeqkZdbvhSzm"
      },
      "source": [
        "From the above we can see that we have data missing for the columns **Education, Unmarried, Income.** But we can clearly say that these columns do not have any direct bearing in predicting the Liver failure of an Individual. So we can directly get rid of these columns. In addition to these columns we can also get rid of the column **Source Of Care** as this column also does not have any direct bearing in predicting the Liver failure of an individual.\n",
        "\n",
        "Now in addition to the above 3 columns we have the following data missing \n",
        "* 46 records missing Hypertension data\n",
        "* Additionl 20 records missing Chronic Fatigue data\n",
        "* Additional 9 records missing Hepatitis data\n",
        "* Additional 3 records missing Family Hepatitis data\n",
        "* Additional 222 records missing Poor Vision data."
      ]
    },
    {
      "cell_type": "markdown",
      "metadata": {
        "id": "kAqmrrtFhSzm"
      },
      "source": [
        "To address the above, let us first start by removing the 4 columns identified above i.e. Education, Unmarried, Income and Source of care from our dataframe."
      ]
    },
    {
      "cell_type": "code",
      "metadata": {
        "id": "qEMOtDIHhSzm",
        "outputId": "f28028b1-5ffa-4c32-f288-0b8ea94ce21e"
      },
      "source": [
        "df_data.drop(['Income', 'Unmarried', 'Education', 'SourceOfCare'], axis = 1, inplace = True)\n",
        "df_data.count(axis=0)"
      ],
      "execution_count": null,
      "outputs": [
        {
          "output_type": "execute_result",
          "data": {
            "text/plain": [
              "Age                     5521\n",
              "Gender                  5521\n",
              "Region                  5521\n",
              "Weight                  5521\n",
              "Height                  5521\n",
              "BodyMassIndex           5521\n",
              "Obesity                 5521\n",
              "Waist                   5521\n",
              "MaximumBloodPressure    5521\n",
              "MinimumBloodPressure    5521\n",
              "GoodCholesterol         5521\n",
              "BadCholesterol          5521\n",
              "TotalCholesterol        5521\n",
              "Dyslipidemia            5521\n",
              "PVD                     5521\n",
              "PhysicalActivity        5521\n",
              "PoorVision              5294\n",
              "AlcoholConsumption      5521\n",
              "HyperTension            5475\n",
              "FamilyHyperTension      5521\n",
              "Diabetes                5520\n",
              "FamilyDiabetes          5521\n",
              "Hepatitis               5510\n",
              "FamilyHepatitis         5518\n",
              "ChronicFatigue          5500\n",
              "ALF                     5521\n",
              "dtype: int64"
            ]
          },
          "metadata": {
            "tags": []
          },
          "execution_count": 12
        }
      ]
    },
    {
      "cell_type": "markdown",
      "metadata": {
        "id": "62cJXLf_hSzm"
      },
      "source": [
        "Now, regarding the missing data for \"Hypertension\", \"Chronic Fatigue\", \"Hepatitis\", \"Family Hepatitis\", \"Poor Vision\" - We do not have a way of getting these data values and also cannot assume these values. But the good part is that these constitute a small percentage (~5%) of our dataset. So let us go ahead and delete the corresponding records from our dataset."
      ]
    },
    {
      "cell_type": "code",
      "metadata": {
        "id": "O4OzYQOhhSzm"
      },
      "source": [
        "df_data = df_data[df_data.HyperTension.notna()]\n",
        "df_data = df_data[df_data.ChronicFatigue.notna()]\n",
        "df_data = df_data[df_data.Hepatitis.notna()]\n",
        "df_data = df_data[df_data.FamilyHepatitis.notna()]\n",
        "df_data = df_data[df_data.PoorVision.notna()]"
      ],
      "execution_count": null,
      "outputs": []
    },
    {
      "cell_type": "markdown",
      "metadata": {
        "id": "_Gg6gInMhSzm"
      },
      "source": [
        "Now we have cleaned up the data to address the data quality issues that we have seen so far. However there is one more thing that we need to do. The columns 'Gender' and 'Region' have non-numeric values. Let us convert these to numeric values as well before proceeding further."
      ]
    },
    {
      "cell_type": "code",
      "metadata": {
        "id": "O2dnW5bJhSzn",
        "outputId": "d221fd5e-3501-4f87-a256-46301fce60c5"
      },
      "source": [
        "df_data['Gender'] = df_data['Gender'].replace(['M', 'F'],[1, 2])\n",
        "df_data['Region'] = df_data['Region'].replace(['east', 'north', 'south', 'west'],[1, 2, 3, 4])\n",
        "df_data.count(axis=0)"
      ],
      "execution_count": null,
      "outputs": [
        {
          "output_type": "execute_result",
          "data": {
            "text/plain": [
              "Age                     5221\n",
              "Gender                  5221\n",
              "Region                  5221\n",
              "Weight                  5221\n",
              "Height                  5221\n",
              "BodyMassIndex           5221\n",
              "Obesity                 5221\n",
              "Waist                   5221\n",
              "MaximumBloodPressure    5221\n",
              "MinimumBloodPressure    5221\n",
              "GoodCholesterol         5221\n",
              "BadCholesterol          5221\n",
              "TotalCholesterol        5221\n",
              "Dyslipidemia            5221\n",
              "PVD                     5221\n",
              "PhysicalActivity        5221\n",
              "PoorVision              5221\n",
              "AlcoholConsumption      5221\n",
              "HyperTension            5221\n",
              "FamilyHyperTension      5221\n",
              "Diabetes                5221\n",
              "FamilyDiabetes          5221\n",
              "Hepatitis               5221\n",
              "FamilyHepatitis         5221\n",
              "ChronicFatigue          5221\n",
              "ALF                     5221\n",
              "dtype: int64"
            ]
          },
          "metadata": {
            "tags": []
          },
          "execution_count": 14
        }
      ]
    },
    {
      "cell_type": "code",
      "metadata": {
        "id": "xTDk4OsVhSzn",
        "outputId": "5c836cf0-da21-4efa-9291-1c9bba21d700"
      },
      "source": [
        "df_data.head()"
      ],
      "execution_count": null,
      "outputs": [
        {
          "output_type": "execute_result",
          "data": {
            "text/plain": [
              "   Age  Gender  Region  Weight  Height  BodyMassIndex  Obesity  Waist  \\\n",
              "0   65       1       1    56.0   162.1          21.31      0.0   83.6   \n",
              "1   36       1       3    60.2   162.2          22.88      0.0   76.6   \n",
              "2   66       1       1    83.9   162.5          31.77      1.0  113.2   \n",
              "3   54       1       1    69.4   160.5          26.94      0.0   77.9   \n",
              "4   63       1       2    73.1   159.2          28.84      0.0   89.3   \n",
              "\n",
              "   MaximumBloodPressure  MinimumBloodPressure ...   PoorVision  \\\n",
              "0                 135.0                  71.0 ...          0.0   \n",
              "1                  96.0                  52.0 ...          0.0   \n",
              "2                 115.0                  57.0 ...          0.0   \n",
              "3                 110.0                  57.0 ...          0.0   \n",
              "4                 132.0                  73.0 ...          0.0   \n",
              "\n",
              "   AlcoholConsumption  HyperTension  FamilyHyperTension  Diabetes  \\\n",
              "0                   1           0.0                   0       0.0   \n",
              "1                   0           0.0                   0       0.0   \n",
              "2                   1           0.0                   0       1.0   \n",
              "3                   1           0.0                   0       0.0   \n",
              "4                   0           1.0                   0       0.0   \n",
              "\n",
              "   FamilyDiabetes  Hepatitis  FamilyHepatitis  ChronicFatigue  ALF  \n",
              "0               1        1.0              0.0             0.0  0.0  \n",
              "1               0        0.0              0.0             0.0  0.0  \n",
              "2               0        0.0              0.0             0.0  0.0  \n",
              "3               0        0.0              0.0             0.0  0.0  \n",
              "4               0        0.0              0.0             0.0  0.0  \n",
              "\n",
              "[5 rows x 26 columns]"
            ],
            "text/html": [
              "<div>\n",
              "<style scoped>\n",
              "    .dataframe tbody tr th:only-of-type {\n",
              "        vertical-align: middle;\n",
              "    }\n",
              "\n",
              "    .dataframe tbody tr th {\n",
              "        vertical-align: top;\n",
              "    }\n",
              "\n",
              "    .dataframe thead th {\n",
              "        text-align: right;\n",
              "    }\n",
              "</style>\n",
              "<table border=\"1\" class=\"dataframe\">\n",
              "  <thead>\n",
              "    <tr style=\"text-align: right;\">\n",
              "      <th></th>\n",
              "      <th>Age</th>\n",
              "      <th>Gender</th>\n",
              "      <th>Region</th>\n",
              "      <th>Weight</th>\n",
              "      <th>Height</th>\n",
              "      <th>BodyMassIndex</th>\n",
              "      <th>Obesity</th>\n",
              "      <th>Waist</th>\n",
              "      <th>MaximumBloodPressure</th>\n",
              "      <th>MinimumBloodPressure</th>\n",
              "      <th>...</th>\n",
              "      <th>PoorVision</th>\n",
              "      <th>AlcoholConsumption</th>\n",
              "      <th>HyperTension</th>\n",
              "      <th>FamilyHyperTension</th>\n",
              "      <th>Diabetes</th>\n",
              "      <th>FamilyDiabetes</th>\n",
              "      <th>Hepatitis</th>\n",
              "      <th>FamilyHepatitis</th>\n",
              "      <th>ChronicFatigue</th>\n",
              "      <th>ALF</th>\n",
              "    </tr>\n",
              "  </thead>\n",
              "  <tbody>\n",
              "    <tr>\n",
              "      <th>0</th>\n",
              "      <td>65</td>\n",
              "      <td>1</td>\n",
              "      <td>1</td>\n",
              "      <td>56.0</td>\n",
              "      <td>162.1</td>\n",
              "      <td>21.31</td>\n",
              "      <td>0.0</td>\n",
              "      <td>83.6</td>\n",
              "      <td>135.0</td>\n",
              "      <td>71.0</td>\n",
              "      <td>...</td>\n",
              "      <td>0.0</td>\n",
              "      <td>1</td>\n",
              "      <td>0.0</td>\n",
              "      <td>0</td>\n",
              "      <td>0.0</td>\n",
              "      <td>1</td>\n",
              "      <td>1.0</td>\n",
              "      <td>0.0</td>\n",
              "      <td>0.0</td>\n",
              "      <td>0.0</td>\n",
              "    </tr>\n",
              "    <tr>\n",
              "      <th>1</th>\n",
              "      <td>36</td>\n",
              "      <td>1</td>\n",
              "      <td>3</td>\n",
              "      <td>60.2</td>\n",
              "      <td>162.2</td>\n",
              "      <td>22.88</td>\n",
              "      <td>0.0</td>\n",
              "      <td>76.6</td>\n",
              "      <td>96.0</td>\n",
              "      <td>52.0</td>\n",
              "      <td>...</td>\n",
              "      <td>0.0</td>\n",
              "      <td>0</td>\n",
              "      <td>0.0</td>\n",
              "      <td>0</td>\n",
              "      <td>0.0</td>\n",
              "      <td>0</td>\n",
              "      <td>0.0</td>\n",
              "      <td>0.0</td>\n",
              "      <td>0.0</td>\n",
              "      <td>0.0</td>\n",
              "    </tr>\n",
              "    <tr>\n",
              "      <th>2</th>\n",
              "      <td>66</td>\n",
              "      <td>1</td>\n",
              "      <td>1</td>\n",
              "      <td>83.9</td>\n",
              "      <td>162.5</td>\n",
              "      <td>31.77</td>\n",
              "      <td>1.0</td>\n",
              "      <td>113.2</td>\n",
              "      <td>115.0</td>\n",
              "      <td>57.0</td>\n",
              "      <td>...</td>\n",
              "      <td>0.0</td>\n",
              "      <td>1</td>\n",
              "      <td>0.0</td>\n",
              "      <td>0</td>\n",
              "      <td>1.0</td>\n",
              "      <td>0</td>\n",
              "      <td>0.0</td>\n",
              "      <td>0.0</td>\n",
              "      <td>0.0</td>\n",
              "      <td>0.0</td>\n",
              "    </tr>\n",
              "    <tr>\n",
              "      <th>3</th>\n",
              "      <td>54</td>\n",
              "      <td>1</td>\n",
              "      <td>1</td>\n",
              "      <td>69.4</td>\n",
              "      <td>160.5</td>\n",
              "      <td>26.94</td>\n",
              "      <td>0.0</td>\n",
              "      <td>77.9</td>\n",
              "      <td>110.0</td>\n",
              "      <td>57.0</td>\n",
              "      <td>...</td>\n",
              "      <td>0.0</td>\n",
              "      <td>1</td>\n",
              "      <td>0.0</td>\n",
              "      <td>0</td>\n",
              "      <td>0.0</td>\n",
              "      <td>0</td>\n",
              "      <td>0.0</td>\n",
              "      <td>0.0</td>\n",
              "      <td>0.0</td>\n",
              "      <td>0.0</td>\n",
              "    </tr>\n",
              "    <tr>\n",
              "      <th>4</th>\n",
              "      <td>63</td>\n",
              "      <td>1</td>\n",
              "      <td>2</td>\n",
              "      <td>73.1</td>\n",
              "      <td>159.2</td>\n",
              "      <td>28.84</td>\n",
              "      <td>0.0</td>\n",
              "      <td>89.3</td>\n",
              "      <td>132.0</td>\n",
              "      <td>73.0</td>\n",
              "      <td>...</td>\n",
              "      <td>0.0</td>\n",
              "      <td>0</td>\n",
              "      <td>1.0</td>\n",
              "      <td>0</td>\n",
              "      <td>0.0</td>\n",
              "      <td>0</td>\n",
              "      <td>0.0</td>\n",
              "      <td>0.0</td>\n",
              "      <td>0.0</td>\n",
              "      <td>0.0</td>\n",
              "    </tr>\n",
              "  </tbody>\n",
              "</table>\n",
              "<p>5 rows × 26 columns</p>\n",
              "</div>"
            ]
          },
          "metadata": {
            "tags": []
          },
          "execution_count": 15
        }
      ]
    },
    {
      "cell_type": "markdown",
      "metadata": {
        "id": "1SMK50sChSzn"
      },
      "source": [
        "#### Correlation Matrix"
      ]
    },
    {
      "cell_type": "markdown",
      "metadata": {
        "id": "AsGr6ppWhSzn"
      },
      "source": [
        "Now that we have addressed the data quality issues seen so far, as a next step let us generate a Correlation Matrix to assess the feature quality and the correlation between the features."
      ]
    },
    {
      "cell_type": "code",
      "metadata": {
        "id": "RzlBIJaqhSzn",
        "outputId": "685cefc9-3d5a-4fce-abe3-b9762a3bdd40"
      },
      "source": [
        "# Generate Correlation Matrix\n",
        "sparkDF = sqlContext.createDataFrame(df_data)\n",
        "sparkRDD = sparkDF.rdd.map(list)\n",
        "Statistics.corr(sparkRDD)"
      ],
      "execution_count": null,
      "outputs": [
        {
          "output_type": "execute_result",
          "data": {
            "text/plain": [
              "array([[ 1.        ,  0.03607417, -0.14561735, -0.04018436, -0.14240399,\n",
              "         0.02931866,  0.00386674,  0.17627244,  0.55441277,  0.03732101,\n",
              "         0.03677856,  0.14735726,  0.16229496,  0.02662777,  0.22899108,\n",
              "        -0.14878635,  0.14437147,  0.20034582,  0.48344438, -0.10903974,\n",
              "         0.24261645,  0.10794128,  0.23744657, -0.03501141,  0.16620354,\n",
              "         0.35161475],\n",
              "       [ 0.03607417,  1.        , -0.01371887,  0.28733144,  0.67224906,\n",
              "        -0.05243305, -0.08545046,  0.1657609 ,  0.04312246,  0.17345687,\n",
              "        -0.33126861,  0.03814234, -0.08550065,  0.09538984, -0.00261827,\n",
              "         0.14511794,  0.03186122,  0.16016085, -0.0080201 , -0.05787393,\n",
              "         0.02848511, -0.02168815,  0.06418898, -0.09968262,  0.01892975,\n",
              "        -0.0270093 ],\n",
              "       [-0.14561735, -0.01371887,  1.        , -0.08539687, -0.24991445,\n",
              "         0.04353438,  0.03020844, -0.02252818, -0.01341035,  0.01312561,\n",
              "        -0.05768014, -0.00110583, -0.02269628, -0.01306387, -0.0367307 ,\n",
              "         0.01688639,  0.03238611, -0.05682523, -0.03751705, -0.00717633,\n",
              "         0.07592704,  0.09905612, -0.06917376,  0.05927891, -0.02011148,\n",
              "        -0.10589584],\n",
              "       [-0.04018436,  0.28733144, -0.08539687,  1.        ,  0.46336025,\n",
              "         0.86301109,  0.65964334,  0.8782638 ,  0.06580216,  0.1885961 ,\n",
              "        -0.31823881,  0.14303725,  0.02510707,  0.07866317, -0.03216264,\n",
              "        -0.04321847, -0.02772909,  0.10331157,  0.12143196,  0.06245843,\n",
              "         0.12729241,  0.09012492,  0.02463794, -0.03722683,  0.0193868 ,\n",
              "        -0.01432085],\n",
              "       [-0.14240399,  0.67224906, -0.24991445,  0.46336025,  1.        ,\n",
              "        -0.03505495, -0.05572761,  0.19661699, -0.10446438,  0.16292293,\n",
              "        -0.20521383, -0.03429854, -0.11135526,  0.05162527, -0.05048731,\n",
              "         0.09505821, -0.0364206 ,  0.10269049, -0.08815226, -0.00831785,\n",
              "        -0.02031598, -0.0545663 , -0.00124152, -0.08129376, -0.01448755,\n",
              "        -0.05548074],\n",
              "       [ 0.02931866, -0.05243305,  0.04353438,  0.86301109, -0.03505495,\n",
              "         1.        ,  0.77836155,  0.87841316,  0.12867812,  0.12201209,\n",
              "        -0.24352539,  0.17605973,  0.08634801,  0.05628403, -0.00804465,\n",
              "        -0.10314815, -0.01105917,  0.05565848,  0.18423227,  0.07869557,\n",
              "         0.15651816,  0.13093264,  0.02509873,  0.00412819,  0.02825905,\n",
              "         0.01193896],\n",
              "       [ 0.00386674, -0.08545046,  0.03020844,  0.65964334, -0.05572761,\n",
              "         0.77836155,  1.        ,  0.68081505,  0.08647555,  0.0994006 ,\n",
              "        -0.17834325,  0.13115345,  0.06547173,  0.05189428,  0.00111308,\n",
              "        -0.08490894, -0.01309692,  0.02037914,  0.15561931,  0.035265  ,\n",
              "         0.09819416,  0.09875071,  0.02523525,  0.00383268,  0.01407727,\n",
              "         0.01496919],\n",
              "       [ 0.17627244,  0.1657609 , -0.02252818,  0.8782638 ,  0.19661699,\n",
              "         0.87841316,  0.68081505,  1.        ,  0.1939957 ,  0.1343522 ,\n",
              "        -0.3132302 ,  0.24323701,  0.12798093,  0.09221939,  0.03934583,\n",
              "        -0.10151235,  0.02169512,  0.1306378 ,  0.24407452,  0.04116971,\n",
              "         0.21876619,  0.13055021,  0.07669332, -0.00885941,  0.05725296,\n",
              "         0.06228554],\n",
              "       [ 0.55441277,  0.04312246, -0.01341035,  0.06580216, -0.10446438,\n",
              "         0.12867812,  0.08647555,  0.1939957 ,  1.        ,  0.34970308,\n",
              "         0.01007064,  0.14730672,  0.15225097,  0.01501377,  0.163259  ,\n",
              "        -0.06495494,  0.0812882 ,  0.06619943,  0.61910841,  0.00702387,\n",
              "         0.17913335,  0.08612661,  0.12588165, -0.00700128,  0.0529706 ,\n",
              "         0.21097275],\n",
              "       [ 0.03732101,  0.17345687,  0.01312561,  0.1885961 ,  0.16292293,\n",
              "         0.12201209,  0.0994006 ,  0.1343522 ,  0.34970308,  1.        ,\n",
              "        -0.08925261,  0.13218473,  0.09984543,  0.04564421, -0.0520394 ,\n",
              "         0.01482933, -0.02784666,  0.01220558,  0.24345652,  0.07337637,\n",
              "        -0.02430158,  0.04362097, -0.02670642, -0.06605507, -0.0366598 ,\n",
              "        -0.06834342],\n",
              "       [ 0.03677856, -0.33126861, -0.05768014, -0.31823881, -0.20521383,\n",
              "        -0.24352539, -0.17834325, -0.3132302 ,  0.01007064, -0.08925261,\n",
              "         1.        , -0.20685432,  0.16565423, -0.23196225, -0.02402123,\n",
              "        -0.01157899, -0.034104  , -0.02293668, -0.00184949,  0.00581024,\n",
              "        -0.11551993, -0.05194936, -0.06745571,  0.02697156, -0.04551267,\n",
              "        -0.02241006],\n",
              "       [ 0.14735726,  0.03814234, -0.00110583,  0.14303725, -0.03429854,\n",
              "         0.17605973,  0.13115345,  0.24323701,  0.14730672,  0.13218473,\n",
              "        -0.20685432,  1.        ,  0.93058818,  0.33603809,  0.02192618,\n",
              "         0.00149333, -0.00778269,  0.03271837,  0.09341779,  0.01360801,\n",
              "         0.06524848,  0.06912276,  0.01075486, -0.04191376, -0.00414722,\n",
              "         0.0357202 ],\n",
              "       [ 0.16229496, -0.08550065, -0.02269628,  0.02510707, -0.11135526,\n",
              "         0.08634801,  0.06547173,  0.12798093,  0.15225097,  0.09984543,\n",
              "         0.16565423,  0.93058818,  1.        ,  0.25193025,  0.01311347,\n",
              "        -0.00282714, -0.02060519,  0.02439763,  0.09347171,  0.01589063,\n",
              "         0.02254652,  0.05023731, -0.01439851, -0.03215675, -0.02120937,\n",
              "         0.02762047],\n",
              "       [ 0.02662777,  0.09538984, -0.01306387,  0.07866317,  0.05162527,\n",
              "         0.05628403,  0.05189428,  0.09221939,  0.01501377,  0.04564421,\n",
              "        -0.23196225,  0.33603809,  0.25193025,  1.        , -0.01536234,\n",
              "         0.01550456,  0.01768203, -0.00233763,  0.01569734, -0.0079897 ,\n",
              "         0.02361211,  0.00406143,  0.01213823,  0.00164327,  0.00898375,\n",
              "        -0.00501249],\n",
              "       [ 0.22899108, -0.00261827, -0.0367307 , -0.03216264, -0.05048731,\n",
              "        -0.00804465,  0.00111308,  0.03934583,  0.163259  , -0.0520394 ,\n",
              "        -0.02402123,  0.02192618,  0.01311347, -0.01536234,  1.        ,\n",
              "        -0.06929056,  0.08794032,  0.03996116,  0.14175556, -0.02945744,\n",
              "         0.1165484 ,  0.01707419,  0.09430892,  0.01185884,  0.05765157,\n",
              "         0.17303385],\n",
              "       [-0.14878635,  0.14511794,  0.01688639, -0.04321847,  0.09505821,\n",
              "        -0.10314815, -0.08490894, -0.10151235, -0.06495494,  0.01482933,\n",
              "        -0.01157899,  0.00149333, -0.00282714,  0.01550456, -0.06929056,\n",
              "         1.        , -0.04567526,  0.00142442, -0.10545497,  0.00627028,\n",
              "        -0.09315374, -0.00340893, -0.08742259, -0.01186974, -0.07508978,\n",
              "        -0.10345611],\n",
              "       [ 0.14437147,  0.03186122,  0.03238611, -0.02772909, -0.0364206 ,\n",
              "        -0.01105917, -0.01309692,  0.02169512,  0.0812882 , -0.02784666,\n",
              "        -0.034104  , -0.00778269, -0.02060519,  0.01768203,  0.08794032,\n",
              "        -0.04567526,  1.        ,  0.03774517,  0.08303226, -0.03195342,\n",
              "         0.08151017,  0.04004724,  0.08462367, -0.0085769 ,  0.01658692,\n",
              "         0.0898371 ],\n",
              "       [ 0.20034582,  0.16016085, -0.05682523,  0.10331157,  0.10269049,\n",
              "         0.05565848,  0.02037914,  0.1306378 ,  0.06619943,  0.01220558,\n",
              "        -0.02293668,  0.03271837,  0.02439763, -0.00233763,  0.03996116,\n",
              "         0.00142442,  0.03774517,  1.        ,  0.07972904, -0.04141886,\n",
              "         0.07055177,  0.00293465,  0.05213572, -0.01870995,  0.02972575,\n",
              "         0.0517592 ],\n",
              "       [ 0.48344438, -0.0080201 , -0.03751705,  0.12143196, -0.08815226,\n",
              "         0.18423227,  0.15561931,  0.24407452,  0.61910841,  0.24345652,\n",
              "        -0.00184949,  0.09341779,  0.09347171,  0.01569734,  0.14175556,\n",
              "        -0.10545497,  0.08303226,  0.07972904,  1.        ,  0.06027937,\n",
              "         0.21961126,  0.09673849,  0.17170531, -0.01171039,  0.11150544,\n",
              "         0.22852679],\n",
              "       [-0.10903974, -0.05787393, -0.00717633,  0.06245843, -0.00831785,\n",
              "         0.07869557,  0.035265  ,  0.04116971,  0.00702387,  0.07337637,\n",
              "         0.00581024,  0.01360801,  0.01589063, -0.0079897 , -0.02945744,\n",
              "         0.00627028, -0.03195342, -0.04141886,  0.06027937,  1.        ,\n",
              "         0.01146997,  0.12153644,  0.00157661,  0.02188845, -0.00358299,\n",
              "        -0.04233473],\n",
              "       [ 0.24261645,  0.02848511,  0.07592704,  0.12729241, -0.02031598,\n",
              "         0.15651816,  0.09819416,  0.21876619,  0.17913335, -0.02430158,\n",
              "        -0.11551993,  0.06524848,  0.02254652,  0.02361211,  0.1165484 ,\n",
              "        -0.09315374,  0.08151017,  0.07055177,  0.21961126,  0.01146997,\n",
              "         1.        ,  0.23958847,  0.09957945,  0.00783752,  0.08393481,\n",
              "         0.13272829],\n",
              "       [ 0.10794128, -0.02168815,  0.09905612,  0.09012492, -0.0545663 ,\n",
              "         0.13093264,  0.09875071,  0.13055021,  0.08612661,  0.04362097,\n",
              "        -0.05194936,  0.06912276,  0.05023731,  0.00406143,  0.01707419,\n",
              "        -0.00340893,  0.04004724,  0.00293465,  0.09673849,  0.12153644,\n",
              "         0.23958847,  1.        ,  0.03804045, -0.01123155,  0.02492426,\n",
              "         0.01519764],\n",
              "       [ 0.23744657,  0.06418898, -0.06917376,  0.02463794, -0.00124152,\n",
              "         0.02509873,  0.02523525,  0.07669332,  0.12588165, -0.02670642,\n",
              "        -0.06745571,  0.01075486, -0.01439851,  0.01213823,  0.09430892,\n",
              "        -0.08742259,  0.08462367,  0.05213572,  0.17170531,  0.00157661,\n",
              "         0.09957945,  0.03804045,  1.        ,  0.00271016,  0.32727707,\n",
              "         0.19574344],\n",
              "       [-0.03501141, -0.09968262,  0.05927891, -0.03722683, -0.08129376,\n",
              "         0.00412819,  0.00383268, -0.00885941, -0.00700128, -0.06605507,\n",
              "         0.02697156, -0.04191376, -0.03215675,  0.00164327,  0.01185884,\n",
              "        -0.01186974, -0.0085769 , -0.01870995, -0.01171039,  0.02188845,\n",
              "         0.00783752, -0.01123155,  0.00271016,  1.        , -0.00387861,\n",
              "         0.04629213],\n",
              "       [ 0.16620354,  0.01892975, -0.02011148,  0.0193868 , -0.01448755,\n",
              "         0.02825905,  0.01407727,  0.05725296,  0.0529706 , -0.0366598 ,\n",
              "        -0.04551267, -0.00414722, -0.02120937,  0.00898375,  0.05765157,\n",
              "        -0.07508978,  0.01658692,  0.02972575,  0.11150544, -0.00358299,\n",
              "         0.08393481,  0.02492426,  0.32727707, -0.00387861,  1.        ,\n",
              "         0.14444794],\n",
              "       [ 0.35161475, -0.0270093 , -0.10589584, -0.01432085, -0.05548074,\n",
              "         0.01193896,  0.01496919,  0.06228554,  0.21097275, -0.06834342,\n",
              "        -0.02241006,  0.0357202 ,  0.02762047, -0.00501249,  0.17303385,\n",
              "        -0.10345611,  0.0898371 ,  0.0517592 ,  0.22852679, -0.04233473,\n",
              "         0.13272829,  0.01519764,  0.19574344,  0.04629213,  0.14444794,\n",
              "         1.        ]])"
            ]
          },
          "metadata": {
            "tags": []
          },
          "execution_count": 16
        }
      ]
    },
    {
      "cell_type": "markdown",
      "metadata": {
        "id": "xeS98KF2hSzn"
      },
      "source": [
        "From the above correlation matrix we can see that there is no correlation between the columns. This could mean 2 things:\n",
        "1. Either these columns contain a lot of information, OR\n",
        "2. The data in these columns are irrelevant\n",
        "\n",
        "Now let us perform some manual analysis of these features to see if all of these are relevant for our purpose."
      ]
    },
    {
      "cell_type": "markdown",
      "metadata": {
        "id": "vA-9sj3WhSzo"
      },
      "source": [
        "On further review of the features, we can say that we can safely remove the following columns from the dataset:\n",
        "* Region\n",
        "    * We will not need the region data as we are looking for features related to individuals for our prediction model.\n",
        "* Weight & Height\n",
        "    * We have the \"Body Mass Index\" column which is derived as a function of the individual's height and weight and hence can safely get rid of these columns.\n",
        "* Obesity\n",
        "    * Obesity can be inferred from the \"Body Mass Index\" of an individual and hence we can also get rid of this column.\n",
        "\n",
        "So, let us go ahead and remove these columns from our dataset."
      ]
    },
    {
      "cell_type": "code",
      "metadata": {
        "id": "BWjgLZZGhSzo",
        "outputId": "263e1028-974c-4d6b-de39-856ad0907233"
      },
      "source": [
        "df_data.drop(['Region', 'Weight', 'Height', 'Obesity'], axis = 1, inplace = True)\n",
        "print (df_data.shape)\n",
        "df_data.head()"
      ],
      "execution_count": null,
      "outputs": [
        {
          "output_type": "stream",
          "text": [
            "(5221, 22)\n"
          ],
          "name": "stdout"
        },
        {
          "output_type": "execute_result",
          "data": {
            "text/plain": [
              "   Age  Gender  BodyMassIndex  Waist  MaximumBloodPressure  \\\n",
              "0   65       1          21.31   83.6                 135.0   \n",
              "1   36       1          22.88   76.6                  96.0   \n",
              "2   66       1          31.77  113.2                 115.0   \n",
              "3   54       1          26.94   77.9                 110.0   \n",
              "4   63       1          28.84   89.3                 132.0   \n",
              "\n",
              "   MinimumBloodPressure  GoodCholesterol  BadCholesterol  TotalCholesterol  \\\n",
              "0                  71.0             48.0           249.0             297.0   \n",
              "1                  52.0             31.0           135.0             166.0   \n",
              "2                  57.0             44.0           211.0             255.0   \n",
              "3                  57.0             74.0           156.0             230.0   \n",
              "4                  73.0             67.0           154.0             221.0   \n",
              "\n",
              "   Dyslipidemia ...   PoorVision  AlcoholConsumption  HyperTension  \\\n",
              "0             0 ...          0.0                   1           0.0   \n",
              "1             0 ...          0.0                   0           0.0   \n",
              "2             1 ...          0.0                   1           0.0   \n",
              "3             0 ...          0.0                   1           0.0   \n",
              "4             0 ...          0.0                   0           1.0   \n",
              "\n",
              "   FamilyHyperTension  Diabetes  FamilyDiabetes  Hepatitis  FamilyHepatitis  \\\n",
              "0                   0       0.0               1        1.0              0.0   \n",
              "1                   0       0.0               0        0.0              0.0   \n",
              "2                   0       1.0               0        0.0              0.0   \n",
              "3                   0       0.0               0        0.0              0.0   \n",
              "4                   0       0.0               0        0.0              0.0   \n",
              "\n",
              "   ChronicFatigue  ALF  \n",
              "0             0.0  0.0  \n",
              "1             0.0  0.0  \n",
              "2             0.0  0.0  \n",
              "3             0.0  0.0  \n",
              "4             0.0  0.0  \n",
              "\n",
              "[5 rows x 22 columns]"
            ],
            "text/html": [
              "<div>\n",
              "<style scoped>\n",
              "    .dataframe tbody tr th:only-of-type {\n",
              "        vertical-align: middle;\n",
              "    }\n",
              "\n",
              "    .dataframe tbody tr th {\n",
              "        vertical-align: top;\n",
              "    }\n",
              "\n",
              "    .dataframe thead th {\n",
              "        text-align: right;\n",
              "    }\n",
              "</style>\n",
              "<table border=\"1\" class=\"dataframe\">\n",
              "  <thead>\n",
              "    <tr style=\"text-align: right;\">\n",
              "      <th></th>\n",
              "      <th>Age</th>\n",
              "      <th>Gender</th>\n",
              "      <th>BodyMassIndex</th>\n",
              "      <th>Waist</th>\n",
              "      <th>MaximumBloodPressure</th>\n",
              "      <th>MinimumBloodPressure</th>\n",
              "      <th>GoodCholesterol</th>\n",
              "      <th>BadCholesterol</th>\n",
              "      <th>TotalCholesterol</th>\n",
              "      <th>Dyslipidemia</th>\n",
              "      <th>...</th>\n",
              "      <th>PoorVision</th>\n",
              "      <th>AlcoholConsumption</th>\n",
              "      <th>HyperTension</th>\n",
              "      <th>FamilyHyperTension</th>\n",
              "      <th>Diabetes</th>\n",
              "      <th>FamilyDiabetes</th>\n",
              "      <th>Hepatitis</th>\n",
              "      <th>FamilyHepatitis</th>\n",
              "      <th>ChronicFatigue</th>\n",
              "      <th>ALF</th>\n",
              "    </tr>\n",
              "  </thead>\n",
              "  <tbody>\n",
              "    <tr>\n",
              "      <th>0</th>\n",
              "      <td>65</td>\n",
              "      <td>1</td>\n",
              "      <td>21.31</td>\n",
              "      <td>83.6</td>\n",
              "      <td>135.0</td>\n",
              "      <td>71.0</td>\n",
              "      <td>48.0</td>\n",
              "      <td>249.0</td>\n",
              "      <td>297.0</td>\n",
              "      <td>0</td>\n",
              "      <td>...</td>\n",
              "      <td>0.0</td>\n",
              "      <td>1</td>\n",
              "      <td>0.0</td>\n",
              "      <td>0</td>\n",
              "      <td>0.0</td>\n",
              "      <td>1</td>\n",
              "      <td>1.0</td>\n",
              "      <td>0.0</td>\n",
              "      <td>0.0</td>\n",
              "      <td>0.0</td>\n",
              "    </tr>\n",
              "    <tr>\n",
              "      <th>1</th>\n",
              "      <td>36</td>\n",
              "      <td>1</td>\n",
              "      <td>22.88</td>\n",
              "      <td>76.6</td>\n",
              "      <td>96.0</td>\n",
              "      <td>52.0</td>\n",
              "      <td>31.0</td>\n",
              "      <td>135.0</td>\n",
              "      <td>166.0</td>\n",
              "      <td>0</td>\n",
              "      <td>...</td>\n",
              "      <td>0.0</td>\n",
              "      <td>0</td>\n",
              "      <td>0.0</td>\n",
              "      <td>0</td>\n",
              "      <td>0.0</td>\n",
              "      <td>0</td>\n",
              "      <td>0.0</td>\n",
              "      <td>0.0</td>\n",
              "      <td>0.0</td>\n",
              "      <td>0.0</td>\n",
              "    </tr>\n",
              "    <tr>\n",
              "      <th>2</th>\n",
              "      <td>66</td>\n",
              "      <td>1</td>\n",
              "      <td>31.77</td>\n",
              "      <td>113.2</td>\n",
              "      <td>115.0</td>\n",
              "      <td>57.0</td>\n",
              "      <td>44.0</td>\n",
              "      <td>211.0</td>\n",
              "      <td>255.0</td>\n",
              "      <td>1</td>\n",
              "      <td>...</td>\n",
              "      <td>0.0</td>\n",
              "      <td>1</td>\n",
              "      <td>0.0</td>\n",
              "      <td>0</td>\n",
              "      <td>1.0</td>\n",
              "      <td>0</td>\n",
              "      <td>0.0</td>\n",
              "      <td>0.0</td>\n",
              "      <td>0.0</td>\n",
              "      <td>0.0</td>\n",
              "    </tr>\n",
              "    <tr>\n",
              "      <th>3</th>\n",
              "      <td>54</td>\n",
              "      <td>1</td>\n",
              "      <td>26.94</td>\n",
              "      <td>77.9</td>\n",
              "      <td>110.0</td>\n",
              "      <td>57.0</td>\n",
              "      <td>74.0</td>\n",
              "      <td>156.0</td>\n",
              "      <td>230.0</td>\n",
              "      <td>0</td>\n",
              "      <td>...</td>\n",
              "      <td>0.0</td>\n",
              "      <td>1</td>\n",
              "      <td>0.0</td>\n",
              "      <td>0</td>\n",
              "      <td>0.0</td>\n",
              "      <td>0</td>\n",
              "      <td>0.0</td>\n",
              "      <td>0.0</td>\n",
              "      <td>0.0</td>\n",
              "      <td>0.0</td>\n",
              "    </tr>\n",
              "    <tr>\n",
              "      <th>4</th>\n",
              "      <td>63</td>\n",
              "      <td>1</td>\n",
              "      <td>28.84</td>\n",
              "      <td>89.3</td>\n",
              "      <td>132.0</td>\n",
              "      <td>73.0</td>\n",
              "      <td>67.0</td>\n",
              "      <td>154.0</td>\n",
              "      <td>221.0</td>\n",
              "      <td>0</td>\n",
              "      <td>...</td>\n",
              "      <td>0.0</td>\n",
              "      <td>0</td>\n",
              "      <td>1.0</td>\n",
              "      <td>0</td>\n",
              "      <td>0.0</td>\n",
              "      <td>0</td>\n",
              "      <td>0.0</td>\n",
              "      <td>0.0</td>\n",
              "      <td>0.0</td>\n",
              "      <td>0.0</td>\n",
              "    </tr>\n",
              "  </tbody>\n",
              "</table>\n",
              "<p>5 rows × 22 columns</p>\n",
              "</div>"
            ]
          },
          "metadata": {
            "tags": []
          },
          "execution_count": 17
        }
      ]
    },
    {
      "cell_type": "markdown",
      "metadata": {
        "id": "swqFpE8ohSzo"
      },
      "source": [
        "Now that we have performed some Initial Data Exploration and addressed the Data Quality issues found, let us go ahead and load this data into the IBM Object store."
      ]
    },
    {
      "cell_type": "markdown",
      "metadata": {
        "id": "k2VRTiIrhSzo"
      },
      "source": [
        "### 2.3. Store Data in IBM Object Store"
      ]
    },
    {
      "cell_type": "markdown",
      "metadata": {
        "id": "7s8dpI3MhSzo"
      },
      "source": [
        "Let us set the credentials and connect to the IBM Data store for persisting our data."
      ]
    },
    {
      "cell_type": "code",
      "metadata": {
        "id": "RiC9z4OwhSzo"
      },
      "source": [
        "# @hidden_cell\n",
        "credentials = {\n",
        "    'endpoint': 'https://s3-api.us-geo.objectstorage.service.networklayer.com',\n",
        "    'api_key': 'yR6pr44dLxKcEe_-J-YBRKtI9LaoOcG9v_c2zK_I1epP',\n",
        "    'service_id': 'iam-ServiceId-dd08a5f3-28d2-4f87-bc12-4ec0662689f2',\n",
        "    'iam_service_endpoint': 'https://iam.bluemix.net/oidc/token'}\n",
        "\n",
        "configuration_name = 'os_85bf8a7fa4e54387abd3bbb49b9490af_configs'\n",
        "cos = ibmos2spark.CloudObjectStorage(sc, credentials, configuration_name, 'bluemix_cos')\n",
        "\n",
        "from pyspark.sql import SparkSession\n",
        "spark = SparkSession.builder.getOrCreate()\n",
        "sparkDF = sqlContext.createDataFrame(df_data)\n",
        "sparkDF = sparkDF.repartition(1)\n",
        "sparkDF.write.parquet(cos.url('ALF_Data.parquet', 'fundamentalsofscalabledatascience-donotdelete-pr-qbkdskud4vsck0'))"
      ],
      "execution_count": null,
      "outputs": []
    },
    {
      "cell_type": "markdown",
      "metadata": {
        "id": "9CNCX78KhSzp"
      },
      "source": [
        "Now that the data has been persisted in the IBM Object store, let us check and confirm that the data persisted is looking good."
      ]
    },
    {
      "cell_type": "code",
      "metadata": {
        "id": "FbgcTEI0hSzp",
        "outputId": "cfea6868-d1ce-47ca-e72b-75504c92b8f2"
      },
      "source": [
        "df_persisted_data = spark.read.parquet(cos.url('ALF_Data.parquet', \n",
        "                                               'fundamentalsofscalabledatascience-donotdelete-pr-qbkdskud4vsck0'))\n",
        "df_persisted_data.show()"
      ],
      "execution_count": null,
      "outputs": [
        {
          "output_type": "stream",
          "text": [
            "+---+------+-------------+-----+--------------------+--------------------+---------------+--------------+----------------+------------+---+----------------+----------+------------------+------------+------------------+--------+--------------+---------+---------------+--------------+---+\n",
            "|Age|Gender|BodyMassIndex|Waist|MaximumBloodPressure|MinimumBloodPressure|GoodCholesterol|BadCholesterol|TotalCholesterol|Dyslipidemia|PVD|PhysicalActivity|PoorVision|AlcoholConsumption|HyperTension|FamilyHyperTension|Diabetes|FamilyDiabetes|Hepatitis|FamilyHepatitis|ChronicFatigue|ALF|\n",
            "+---+------+-------------+-----+--------------------+--------------------+---------------+--------------+----------------+------------+---+----------------+----------+------------------+------------+------------------+--------+--------------+---------+---------------+--------------+---+\n",
            "| 65|     1|        21.31| 83.6|               135.0|                71.0|           48.0|         249.0|           297.0|           0|  0|             3.0|       0.0|                 1|         0.0|                 0|     0.0|             1|      1.0|            0.0|           0.0|0.0|\n",
            "| 36|     1|        22.88| 76.6|                96.0|                52.0|           31.0|         135.0|           166.0|           0|  0|             3.0|       0.0|                 0|         0.0|                 0|     0.0|             0|      0.0|            0.0|           0.0|0.0|\n",
            "| 66|     1|        31.77|113.2|               115.0|                57.0|           44.0|         211.0|           255.0|           1|  0|             1.0|       0.0|                 1|         0.0|                 0|     1.0|             0|      0.0|            0.0|           0.0|0.0|\n",
            "| 54|     1|        26.94| 77.9|               110.0|                57.0|           74.0|         156.0|           230.0|           0|  0|             2.0|       0.0|                 1|         0.0|                 0|     0.0|             0|      0.0|            0.0|           0.0|0.0|\n",
            "| 63|     1|        28.84| 89.3|               132.0|                73.0|           67.0|         154.0|           221.0|           0|  0|             1.0|       0.0|                 0|         1.0|                 0|     0.0|             0|      0.0|            0.0|           0.0|0.0|\n",
            "| 26|     2|        31.96|117.9|               129.0|                70.0|           43.0|         159.0|           202.0|           0|  0|             2.0|       0.0|                 0|         0.0|                 1|     0.0|             0|      0.0|            0.0|           0.0|0.0|\n",
            "| 66|     2|        28.73| 99.2|               137.0|                92.0|           41.0|         143.0|           184.0|           0|  0|             3.0|       0.0|                 0|         1.0|                 0|     0.0|             0|      0.0|            0.0|           0.0|0.0|\n",
            "| 59|     1|         27.0|101.5|               124.0|                73.0|           43.0|         140.0|           183.0|           0|  0|             2.0|       0.0|                 0|         0.0|                 1|     1.0|             1|      0.0|            0.0|           0.0|0.0|\n",
            "| 53|     1|        24.81| 85.6|               110.0|                74.0|           62.0|         110.0|           172.0|           0|  0|             1.0|       0.0|                 1|         1.0|                 1|     0.0|             0|      0.0|            0.0|           0.0|0.0|\n",
            "| 62|     2|        20.48| 78.7|               201.0|               119.0|           55.0|         171.0|           226.0|           0|  0|             4.0|       0.0|                 1|         1.0|                 0|     0.0|             0|      0.0|            0.0|           0.0|0.0|\n",
            "| 36|     2|        23.33| 86.8|               108.0|                62.0|           48.0|         124.0|           172.0|           0|  0|             2.0|       0.0|                 0|         0.0|                 0|     0.0|             1|      0.0|            0.0|           0.0|0.0|\n",
            "| 60|     1|        31.74| 88.5|               153.0|                77.0|           38.0|         141.0|           179.0|           0|  0|             2.0|       0.0|                 1|         1.0|                 0|     0.0|             1|      0.0|            0.0|           0.0|0.0|\n",
            "| 30|     1|        27.43| 89.1|               105.0|                72.0|           73.0|         107.0|           180.0|           0|  0|             3.0|       0.0|                 1|         0.0|                 1|     0.0|             1|      0.0|            0.0|           0.0|0.0|\n",
            "| 47|     1|        27.75| 89.5|               116.0|                71.0|           49.0|         135.0|           184.0|           0|  0|             1.0|       0.0|                 0|         0.0|                 1|     0.0|             1|      0.0|            0.0|           0.0|0.0|\n",
            "| 53|     1|        29.95|104.8|               112.0|                68.0|           68.0|         109.0|           177.0|           0|  0|             1.0|       0.0|                 0|         0.0|                 1|     0.0|             0|      0.0|            0.0|           0.0|1.0|\n",
            "| 28|     1|        26.44| 85.9|               105.0|                69.0|           56.0|         219.0|           275.0|           1|  0|             3.0|       0.0|                 0|         0.0|                 1|     0.0|             0|      0.0|            0.0|           0.0|0.0|\n",
            "| 30|     1|        39.56|119.4|               108.0|                40.0|           58.0|         206.0|           264.0|           0|  0|             2.0|       0.0|                 0|         0.0|                 1|     0.0|             1|      0.0|            1.0|           0.0|0.0|\n",
            "| 52|     2|        27.86|105.9|               133.0|                77.0|           70.0|         108.0|           178.0|           0|  0|             1.0|       0.0|                 1|         1.0|                 1|     1.0|             0|      0.0|            0.0|           0.0|0.0|\n",
            "| 24|     1|        31.93| 86.2|               120.0|                78.0|           57.0|         140.0|           197.0|           0|  0|             2.0|       0.0|                 1|         0.0|                 0|     0.0|             1|      0.0|            0.0|           0.0|0.0|\n",
            "| 38|     1|        28.36| 90.0|               144.0|                90.0|           48.0|         163.0|           211.0|           0|  0|             1.0|       0.0|                 0|         1.0|                 1|     0.0|             1|      0.0|            0.0|           0.0|0.0|\n",
            "+---+------+-------------+-----+--------------------+--------------------+---------------+--------------+----------------+------------+---+----------------+----------+------------------+------------+------------------+--------+--------------+---------+---------------+--------------+---+\n",
            "only showing top 20 rows\n",
            "\n"
          ],
          "name": "stdout"
        }
      ]
    },
    {
      "cell_type": "markdown",
      "metadata": {
        "id": "ttcrAGGHhSzp"
      },
      "source": [
        "The data persisted in the Object store is looking good. Going forward, we can use the data from the IBM Object store for further processing during the course of this project."
      ]
    }
  ]
}
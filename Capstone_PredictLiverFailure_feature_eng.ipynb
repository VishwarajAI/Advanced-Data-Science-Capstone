{
  "nbformat": 4,
  "nbformat_minor": 0,
  "metadata": {
    "kernelspec": {
      "display_name": "Python 3.5 with Spark",
      "name": "python3",
      "language": "python3"
    },
    "language_info": {
      "mimetype": "text/x-python",
      "nbconvert_exporter": "python",
      "version": "3.5.4",
      "name": "python",
      "pygments_lexer": "ipython3",
      "file_extension": ".py",
      "codemirror_mode": {
        "version": 3,
        "name": "ipython"
      }
    },
    "colab": {
      "name": "Capstone_PredictLiverFailure.feature_eng.ipynb",
      "provenance": []
    }
  },
  "cells": [
    {
      "cell_type": "markdown",
      "metadata": {
        "collapsed": true,
        "id": "soh7UnDQiM57"
      },
      "source": [
        "# Predict Liver Failure based on People's Demographics\n",
        "\n",
        "***(Feature Creation Notebook)***"
      ]
    },
    {
      "cell_type": "markdown",
      "metadata": {
        "id": "Cma6UkVZiM59"
      },
      "source": [
        "## 3. Feature Creation\n",
        "\n",
        "In this notebook, we will perform Feature Creation and Feature Engineering on the demographics and health information that we have stored in the IBM Object store as part of the previous step of Extract, Transform and Load (ETL)."
      ]
    },
    {
      "cell_type": "markdown",
      "metadata": {
        "id": "gm46Xo24iM5-"
      },
      "source": [
        "### 3.1. Load Source Data from Data Store\n",
        "Let us start by loading the data from the IBM Data store onto this notebook for further processing. Now we will to connect to the object store and read a PARQUET file and create a dataframe out of it. Using SparkSQL we can handle it like a database."
      ]
    },
    {
      "cell_type": "code",
      "metadata": {
        "id": "igyrV3uBiM5_",
        "outputId": "ff8bf7d1-7512-46bd-ab04-d721c1f5b5f9"
      },
      "source": [
        "# import required packages and libraries\n",
        "import types\n",
        "import pandas as pd\n",
        "import numpy as np\n",
        "import ibmos2spark"
      ],
      "execution_count": null,
      "outputs": [
        {
          "output_type": "stream",
          "text": [
            "Waiting for a Spark session to start...\n",
            "Spark Initialization Done! ApplicationId = app-20190405073152-0000\n",
            "KERNEL_ID = bcc1b214-9566-449c-9959-23a2e65f0662\n"
          ],
          "name": "stdout"
        }
      ]
    },
    {
      "cell_type": "code",
      "metadata": {
        "id": "Kq7SU-xriM6A",
        "outputId": "6bac1d22-e8de-4624-bfc6-01760b83c3f1"
      },
      "source": [
        "credentials = {\n",
        "    'endpoint': 'https://s3-api.us-geo.objectstorage.service.networklayer.com',\n",
        "    'api_key': 'yR6pr44dLxKcEe_-J-YBRKtI9LaoOcG9v_c2zK_I1epP',\n",
        "    'service_id': 'iam-ServiceId-dd08a5f3-28d2-4f87-bc12-4ec0662689f2',\n",
        "    'iam_service_endpoint': 'https://iam.bluemix.net/oidc/token'}\n",
        "\n",
        "configuration_name = 'os_85bf8a7fa4e54387abd3bbb49b9490af_configs'\n",
        "cos = ibmos2spark.CloudObjectStorage(sc, credentials, configuration_name, 'bluemix_cos')\n",
        "\n",
        "from pyspark.sql import SparkSession\n",
        "spark = SparkSession.builder.getOrCreate()\n",
        "df_data = spark.read.parquet(cos.url('ALF_Data.parquet', 'fundamentalsofscalabledatascience-donotdelete-pr-qbkdskud4vsck0'))\n",
        "print(\"Number of records = \", df_data.count(), \"\\n\")\n",
        "df_data.createOrReplaceTempView('alf_data')\n",
        "df_data.show()"
      ],
      "execution_count": null,
      "outputs": [
        {
          "output_type": "stream",
          "text": [
            "Number of records =  5221 \n",
            "\n",
            "+---+------+-------------+-----+--------------------+--------------------+---------------+--------------+----------------+------------+---+----------------+----------+------------------+------------+------------------+--------+--------------+---------+---------------+--------------+---+\n",
            "|Age|Gender|BodyMassIndex|Waist|MaximumBloodPressure|MinimumBloodPressure|GoodCholesterol|BadCholesterol|TotalCholesterol|Dyslipidemia|PVD|PhysicalActivity|PoorVision|AlcoholConsumption|HyperTension|FamilyHyperTension|Diabetes|FamilyDiabetes|Hepatitis|FamilyHepatitis|ChronicFatigue|ALF|\n",
            "+---+------+-------------+-----+--------------------+--------------------+---------------+--------------+----------------+------------+---+----------------+----------+------------------+------------+------------------+--------+--------------+---------+---------------+--------------+---+\n",
            "| 65|     1|        21.31| 83.6|               135.0|                71.0|           48.0|         249.0|           297.0|           0|  0|             3.0|       0.0|                 1|         0.0|                 0|     0.0|             1|      1.0|            0.0|           0.0|0.0|\n",
            "| 36|     1|        22.88| 76.6|                96.0|                52.0|           31.0|         135.0|           166.0|           0|  0|             3.0|       0.0|                 0|         0.0|                 0|     0.0|             0|      0.0|            0.0|           0.0|0.0|\n",
            "| 66|     1|        31.77|113.2|               115.0|                57.0|           44.0|         211.0|           255.0|           1|  0|             1.0|       0.0|                 1|         0.0|                 0|     1.0|             0|      0.0|            0.0|           0.0|0.0|\n",
            "| 54|     1|        26.94| 77.9|               110.0|                57.0|           74.0|         156.0|           230.0|           0|  0|             2.0|       0.0|                 1|         0.0|                 0|     0.0|             0|      0.0|            0.0|           0.0|0.0|\n",
            "| 63|     1|        28.84| 89.3|               132.0|                73.0|           67.0|         154.0|           221.0|           0|  0|             1.0|       0.0|                 0|         1.0|                 0|     0.0|             0|      0.0|            0.0|           0.0|0.0|\n",
            "| 26|     2|        31.96|117.9|               129.0|                70.0|           43.0|         159.0|           202.0|           0|  0|             2.0|       0.0|                 0|         0.0|                 1|     0.0|             0|      0.0|            0.0|           0.0|0.0|\n",
            "| 66|     2|        28.73| 99.2|               137.0|                92.0|           41.0|         143.0|           184.0|           0|  0|             3.0|       0.0|                 0|         1.0|                 0|     0.0|             0|      0.0|            0.0|           0.0|0.0|\n",
            "| 59|     1|         27.0|101.5|               124.0|                73.0|           43.0|         140.0|           183.0|           0|  0|             2.0|       0.0|                 0|         0.0|                 1|     1.0|             1|      0.0|            0.0|           0.0|0.0|\n",
            "| 53|     1|        24.81| 85.6|               110.0|                74.0|           62.0|         110.0|           172.0|           0|  0|             1.0|       0.0|                 1|         1.0|                 1|     0.0|             0|      0.0|            0.0|           0.0|0.0|\n",
            "| 62|     2|        20.48| 78.7|               201.0|               119.0|           55.0|         171.0|           226.0|           0|  0|             4.0|       0.0|                 1|         1.0|                 0|     0.0|             0|      0.0|            0.0|           0.0|0.0|\n",
            "| 36|     2|        23.33| 86.8|               108.0|                62.0|           48.0|         124.0|           172.0|           0|  0|             2.0|       0.0|                 0|         0.0|                 0|     0.0|             1|      0.0|            0.0|           0.0|0.0|\n",
            "| 60|     1|        31.74| 88.5|               153.0|                77.0|           38.0|         141.0|           179.0|           0|  0|             2.0|       0.0|                 1|         1.0|                 0|     0.0|             1|      0.0|            0.0|           0.0|0.0|\n",
            "| 30|     1|        27.43| 89.1|               105.0|                72.0|           73.0|         107.0|           180.0|           0|  0|             3.0|       0.0|                 1|         0.0|                 1|     0.0|             1|      0.0|            0.0|           0.0|0.0|\n",
            "| 47|     1|        27.75| 89.5|               116.0|                71.0|           49.0|         135.0|           184.0|           0|  0|             1.0|       0.0|                 0|         0.0|                 1|     0.0|             1|      0.0|            0.0|           0.0|0.0|\n",
            "| 53|     1|        29.95|104.8|               112.0|                68.0|           68.0|         109.0|           177.0|           0|  0|             1.0|       0.0|                 0|         0.0|                 1|     0.0|             0|      0.0|            0.0|           0.0|1.0|\n",
            "| 28|     1|        26.44| 85.9|               105.0|                69.0|           56.0|         219.0|           275.0|           1|  0|             3.0|       0.0|                 0|         0.0|                 1|     0.0|             0|      0.0|            0.0|           0.0|0.0|\n",
            "| 30|     1|        39.56|119.4|               108.0|                40.0|           58.0|         206.0|           264.0|           0|  0|             2.0|       0.0|                 0|         0.0|                 1|     0.0|             1|      0.0|            1.0|           0.0|0.0|\n",
            "| 52|     2|        27.86|105.9|               133.0|                77.0|           70.0|         108.0|           178.0|           0|  0|             1.0|       0.0|                 1|         1.0|                 1|     1.0|             0|      0.0|            0.0|           0.0|0.0|\n",
            "| 24|     1|        31.93| 86.2|               120.0|                78.0|           57.0|         140.0|           197.0|           0|  0|             2.0|       0.0|                 1|         0.0|                 0|     0.0|             1|      0.0|            0.0|           0.0|0.0|\n",
            "| 38|     1|        28.36| 90.0|               144.0|                90.0|           48.0|         163.0|           211.0|           0|  0|             1.0|       0.0|                 0|         1.0|                 1|     0.0|             1|      0.0|            0.0|           0.0|0.0|\n",
            "+---+------+-------------+-----+--------------------+--------------------+---------------+--------------+----------------+------------+---+----------------+----------+------------------+------------+------------------+--------+--------------+---------+---------------+--------------+---+\n",
            "only showing top 20 rows\n",
            "\n"
          ],
          "name": "stdout"
        }
      ]
    },
    {
      "cell_type": "markdown",
      "metadata": {
        "id": "KAFfQhCliM6A"
      },
      "source": [
        "### 3.2. Feature Engineering\n",
        "\n",
        "Let us now apply One Hot Encoding to the categorical integer features viz. Gender, Dyslipidemia, PVD, PhysicalActivity, PoorVision, AlcoholConsumption, HyperTension, FamilyHyperTension, Diabetes, FamilyDiabetes, Hepatitis, FamilyHepatitis and ChronicFatigue."
      ]
    },
    {
      "cell_type": "code",
      "metadata": {
        "id": "BpV9k4K3iM6B"
      },
      "source": [
        "from pyspark.ml.feature import OneHotEncoder\n",
        "\n",
        "# Create one hot encoders for the categorical features\n",
        "encoder1 = OneHotEncoder(inputCol = 'Gender', outputCol = 'GenderVec')\n",
        "encoder2 = OneHotEncoder(inputCol = 'Dyslipidemia', outputCol = 'DyslipidemiaVec')\n",
        "encoder3 = OneHotEncoder(inputCol = 'PVD', outputCol = 'PVDVec')\n",
        "encoder4 = OneHotEncoder(inputCol = 'PhysicalActivity', outputCol = 'PhysicalActivityVec')\n",
        "encoder5 = OneHotEncoder(inputCol = 'PoorVision', outputCol = 'PoorVisionVec')\n",
        "encoder6 = OneHotEncoder(inputCol = 'AlcoholConsumption', outputCol = 'AlcoholConsumptionVec')\n",
        "encoder7 = OneHotEncoder(inputCol = 'HyperTension', outputCol = 'HyperTensionVec')\n",
        "encoder8 = OneHotEncoder(inputCol = 'FamilyHyperTension', outputCol = 'FamilyHyperTensionVec')\n",
        "encoder9 = OneHotEncoder(inputCol = 'Diabetes', outputCol = 'DiabetesVec')\n",
        "encoder10 = OneHotEncoder(inputCol = 'FamilyDiabetes', outputCol = 'FamilyDiabetesVec')\n",
        "encoder11 = OneHotEncoder(inputCol = 'Hepatitis', outputCol = 'HepatitisVec')\n",
        "encoder12 = OneHotEncoder(inputCol = 'FamilyHepatitis', outputCol = 'FamilyHepatitisVec')\n",
        "encoder13 = OneHotEncoder(inputCol = 'ChronicFatigue', outputCol = 'ChronicFatigueVec')"
      ],
      "execution_count": null,
      "outputs": []
    },
    {
      "cell_type": "markdown",
      "metadata": {
        "id": "gyDSOei4iM6C"
      },
      "source": [
        "Let us now merge the features into a single features vector and then normalize them."
      ]
    },
    {
      "cell_type": "code",
      "metadata": {
        "id": "rxDBTR3YiM6D"
      },
      "source": [
        "from pyspark.ml.feature import MinMaxScaler, VectorAssembler\n",
        "\n",
        "# Create a features vector\n",
        "vectorAssembler = VectorAssembler(inputCols = ['GenderVec', 'DyslipidemiaVec', 'PVDVec', 'PhysicalActivityVec', 'PoorVisionVec', \n",
        "                                               'AlcoholConsumptionVec', 'HyperTensionVec', 'FamilyHyperTensionVec', \n",
        "                                               'DiabetesVec', 'FamilyDiabetesVec', 'HepatitisVec', 'FamilyHepatitisVec', \n",
        "                                               'ChronicFatigueVec','Age', 'BodyMassIndex', 'Waist', 'MaximumBloodPressure', \n",
        "                                               'MinimumBloodPressure', 'GoodCholesterol', 'BadCholesterol', 'TotalCholesterol'],\n",
        "                                  outputCol = 'featuresVec')\n",
        "\n",
        "# Normalize the features data\n",
        "normalizer = MinMaxScaler(inputCol = 'featuresVec', outputCol = 'features')"
      ],
      "execution_count": null,
      "outputs": []
    },
    {
      "cell_type": "markdown",
      "metadata": {
        "id": "6zpfXpfeiM6E"
      },
      "source": [
        "Now, let us use create a Machine Learning Pipeline to apply the above feature engineering stages to our dataset."
      ]
    },
    {
      "cell_type": "code",
      "metadata": {
        "id": "hw-XY84fiM6E",
        "outputId": "39799517-f1d1-4419-f789-9a81b3aa4498"
      },
      "source": [
        "from pyspark.ml import Pipeline\n",
        "\n",
        "# Create a Feature Engineering ML pipeline\n",
        "pipeline = Pipeline(stages = [encoder1, encoder2, encoder3, encoder4, encoder5, encoder6, encoder7, encoder8, encoder9,\n",
        "                              encoder10, encoder11, encoder12, encoder13, vectorAssembler, normalizer])\n",
        "df_normalized_data = pipeline.fit(df_data).transform(df_data)\n",
        "df_normalized_data.show()"
      ],
      "execution_count": null,
      "outputs": [
        {
          "output_type": "stream",
          "text": [
            "+---+------+-------------+-----+--------------------+--------------------+---------------+--------------+----------------+------------+---+----------------+----------+------------------+------------+------------------+--------+--------------+---------+---------------+--------------+---+-------------+---------------+-------------+-------------------+-------------+---------------------+---------------+---------------------+-------------+-----------------+-------------+------------------+-----------------+--------------------+--------------------+\n",
            "|Age|Gender|BodyMassIndex|Waist|MaximumBloodPressure|MinimumBloodPressure|GoodCholesterol|BadCholesterol|TotalCholesterol|Dyslipidemia|PVD|PhysicalActivity|PoorVision|AlcoholConsumption|HyperTension|FamilyHyperTension|Diabetes|FamilyDiabetes|Hepatitis|FamilyHepatitis|ChronicFatigue|ALF|    GenderVec|DyslipidemiaVec|       PVDVec|PhysicalActivityVec|PoorVisionVec|AlcoholConsumptionVec|HyperTensionVec|FamilyHyperTensionVec|  DiabetesVec|FamilyDiabetesVec| HepatitisVec|FamilyHepatitisVec|ChronicFatigueVec|         featuresVec|            features|\n",
            "+---+------+-------------+-----+--------------------+--------------------+---------------+--------------+----------------+------------+---+----------------+----------+------------------+------------+------------------+--------+--------------+---------+---------------+--------------+---+-------------+---------------+-------------+-------------------+-------------+---------------------+---------------+---------------------+-------------+-----------------+-------------+------------------+-----------------+--------------------+--------------------+\n",
            "| 65|     1|        21.31| 83.6|               135.0|                71.0|           48.0|         249.0|           297.0|           0|  0|             3.0|       0.0|                 1|         0.0|                 0|     0.0|             1|      1.0|            0.0|           0.0|0.0|(2,[1],[1.0])|  (1,[0],[1.0])|(1,[0],[1.0])|      (4,[3],[1.0])|(1,[0],[1.0])|            (1,[],[])|  (1,[0],[1.0])|        (1,[0],[1.0])|(1,[0],[1.0])|        (1,[],[])|    (1,[],[])|     (1,[0],[1.0])|    (1,[0],[1.0])|[0.0,1.0,1.0,1.0,...|[0.5,1.0,1.0,1.0,...|\n",
            "| 36|     1|        22.88| 76.6|                96.0|                52.0|           31.0|         135.0|           166.0|           0|  0|             3.0|       0.0|                 0|         0.0|                 0|     0.0|             0|      0.0|            0.0|           0.0|0.0|(2,[1],[1.0])|  (1,[0],[1.0])|(1,[0],[1.0])|      (4,[3],[1.0])|(1,[0],[1.0])|        (1,[0],[1.0])|  (1,[0],[1.0])|        (1,[0],[1.0])|(1,[0],[1.0])|    (1,[0],[1.0])|(1,[0],[1.0])|     (1,[0],[1.0])|    (1,[0],[1.0])|[0.0,1.0,1.0,1.0,...|[0.5,1.0,1.0,1.0,...|\n",
            "| 66|     1|        31.77|113.2|               115.0|                57.0|           44.0|         211.0|           255.0|           1|  0|             1.0|       0.0|                 1|         0.0|                 0|     1.0|             0|      0.0|            0.0|           0.0|0.0|(2,[1],[1.0])|      (1,[],[])|(1,[0],[1.0])|      (4,[1],[1.0])|(1,[0],[1.0])|            (1,[],[])|  (1,[0],[1.0])|        (1,[0],[1.0])|    (1,[],[])|    (1,[0],[1.0])|(1,[0],[1.0])|     (1,[0],[1.0])|    (1,[0],[1.0])|[0.0,1.0,0.0,1.0,...|[0.5,1.0,0.0,1.0,...|\n",
            "| 54|     1|        26.94| 77.9|               110.0|                57.0|           74.0|         156.0|           230.0|           0|  0|             2.0|       0.0|                 1|         0.0|                 0|     0.0|             0|      0.0|            0.0|           0.0|0.0|(2,[1],[1.0])|  (1,[0],[1.0])|(1,[0],[1.0])|      (4,[2],[1.0])|(1,[0],[1.0])|            (1,[],[])|  (1,[0],[1.0])|        (1,[0],[1.0])|(1,[0],[1.0])|    (1,[0],[1.0])|(1,[0],[1.0])|     (1,[0],[1.0])|    (1,[0],[1.0])|[0.0,1.0,1.0,1.0,...|[0.5,1.0,1.0,1.0,...|\n",
            "| 63|     1|        28.84| 89.3|               132.0|                73.0|           67.0|         154.0|           221.0|           0|  0|             1.0|       0.0|                 0|         1.0|                 0|     0.0|             0|      0.0|            0.0|           0.0|0.0|(2,[1],[1.0])|  (1,[0],[1.0])|(1,[0],[1.0])|      (4,[1],[1.0])|(1,[0],[1.0])|        (1,[0],[1.0])|      (1,[],[])|        (1,[0],[1.0])|(1,[0],[1.0])|    (1,[0],[1.0])|(1,[0],[1.0])|     (1,[0],[1.0])|    (1,[0],[1.0])|[0.0,1.0,1.0,1.0,...|[0.5,1.0,1.0,1.0,...|\n",
            "| 26|     2|        31.96|117.9|               129.0|                70.0|           43.0|         159.0|           202.0|           0|  0|             2.0|       0.0|                 0|         0.0|                 1|     0.0|             0|      0.0|            0.0|           0.0|0.0|    (2,[],[])|  (1,[0],[1.0])|(1,[0],[1.0])|      (4,[2],[1.0])|(1,[0],[1.0])|        (1,[0],[1.0])|  (1,[0],[1.0])|            (1,[],[])|(1,[0],[1.0])|    (1,[0],[1.0])|(1,[0],[1.0])|     (1,[0],[1.0])|    (1,[0],[1.0])|[0.0,0.0,1.0,1.0,...|[0.5,0.0,1.0,1.0,...|\n",
            "| 66|     2|        28.73| 99.2|               137.0|                92.0|           41.0|         143.0|           184.0|           0|  0|             3.0|       0.0|                 0|         1.0|                 0|     0.0|             0|      0.0|            0.0|           0.0|0.0|    (2,[],[])|  (1,[0],[1.0])|(1,[0],[1.0])|      (4,[3],[1.0])|(1,[0],[1.0])|        (1,[0],[1.0])|      (1,[],[])|        (1,[0],[1.0])|(1,[0],[1.0])|    (1,[0],[1.0])|(1,[0],[1.0])|     (1,[0],[1.0])|    (1,[0],[1.0])|[0.0,0.0,1.0,1.0,...|[0.5,0.0,1.0,1.0,...|\n",
            "| 59|     1|         27.0|101.5|               124.0|                73.0|           43.0|         140.0|           183.0|           0|  0|             2.0|       0.0|                 0|         0.0|                 1|     1.0|             1|      0.0|            0.0|           0.0|0.0|(2,[1],[1.0])|  (1,[0],[1.0])|(1,[0],[1.0])|      (4,[2],[1.0])|(1,[0],[1.0])|        (1,[0],[1.0])|  (1,[0],[1.0])|            (1,[],[])|    (1,[],[])|        (1,[],[])|(1,[0],[1.0])|     (1,[0],[1.0])|    (1,[0],[1.0])|[0.0,1.0,1.0,1.0,...|[0.5,1.0,1.0,1.0,...|\n",
            "| 53|     1|        24.81| 85.6|               110.0|                74.0|           62.0|         110.0|           172.0|           0|  0|             1.0|       0.0|                 1|         1.0|                 1|     0.0|             0|      0.0|            0.0|           0.0|0.0|(2,[1],[1.0])|  (1,[0],[1.0])|(1,[0],[1.0])|      (4,[1],[1.0])|(1,[0],[1.0])|            (1,[],[])|      (1,[],[])|            (1,[],[])|(1,[0],[1.0])|    (1,[0],[1.0])|(1,[0],[1.0])|     (1,[0],[1.0])|    (1,[0],[1.0])|[0.0,1.0,1.0,1.0,...|[0.5,1.0,1.0,1.0,...|\n",
            "| 62|     2|        20.48| 78.7|               201.0|               119.0|           55.0|         171.0|           226.0|           0|  0|             4.0|       0.0|                 1|         1.0|                 0|     0.0|             0|      0.0|            0.0|           0.0|0.0|    (2,[],[])|  (1,[0],[1.0])|(1,[0],[1.0])|          (4,[],[])|(1,[0],[1.0])|            (1,[],[])|      (1,[],[])|        (1,[0],[1.0])|(1,[0],[1.0])|    (1,[0],[1.0])|(1,[0],[1.0])|     (1,[0],[1.0])|    (1,[0],[1.0])|[0.0,0.0,1.0,1.0,...|[0.5,0.0,1.0,1.0,...|\n",
            "| 36|     2|        23.33| 86.8|               108.0|                62.0|           48.0|         124.0|           172.0|           0|  0|             2.0|       0.0|                 0|         0.0|                 0|     0.0|             1|      0.0|            0.0|           0.0|0.0|    (2,[],[])|  (1,[0],[1.0])|(1,[0],[1.0])|      (4,[2],[1.0])|(1,[0],[1.0])|        (1,[0],[1.0])|  (1,[0],[1.0])|        (1,[0],[1.0])|(1,[0],[1.0])|        (1,[],[])|(1,[0],[1.0])|     (1,[0],[1.0])|    (1,[0],[1.0])|[0.0,0.0,1.0,1.0,...|[0.5,0.0,1.0,1.0,...|\n",
            "| 60|     1|        31.74| 88.5|               153.0|                77.0|           38.0|         141.0|           179.0|           0|  0|             2.0|       0.0|                 1|         1.0|                 0|     0.0|             1|      0.0|            0.0|           0.0|0.0|(2,[1],[1.0])|  (1,[0],[1.0])|(1,[0],[1.0])|      (4,[2],[1.0])|(1,[0],[1.0])|            (1,[],[])|      (1,[],[])|        (1,[0],[1.0])|(1,[0],[1.0])|        (1,[],[])|(1,[0],[1.0])|     (1,[0],[1.0])|    (1,[0],[1.0])|[0.0,1.0,1.0,1.0,...|[0.5,1.0,1.0,1.0,...|\n",
            "| 30|     1|        27.43| 89.1|               105.0|                72.0|           73.0|         107.0|           180.0|           0|  0|             3.0|       0.0|                 1|         0.0|                 1|     0.0|             1|      0.0|            0.0|           0.0|0.0|(2,[1],[1.0])|  (1,[0],[1.0])|(1,[0],[1.0])|      (4,[3],[1.0])|(1,[0],[1.0])|            (1,[],[])|  (1,[0],[1.0])|            (1,[],[])|(1,[0],[1.0])|        (1,[],[])|(1,[0],[1.0])|     (1,[0],[1.0])|    (1,[0],[1.0])|[0.0,1.0,1.0,1.0,...|[0.5,1.0,1.0,1.0,...|\n",
            "| 47|     1|        27.75| 89.5|               116.0|                71.0|           49.0|         135.0|           184.0|           0|  0|             1.0|       0.0|                 0|         0.0|                 1|     0.0|             1|      0.0|            0.0|           0.0|0.0|(2,[1],[1.0])|  (1,[0],[1.0])|(1,[0],[1.0])|      (4,[1],[1.0])|(1,[0],[1.0])|        (1,[0],[1.0])|  (1,[0],[1.0])|            (1,[],[])|(1,[0],[1.0])|        (1,[],[])|(1,[0],[1.0])|     (1,[0],[1.0])|    (1,[0],[1.0])|[0.0,1.0,1.0,1.0,...|[0.5,1.0,1.0,1.0,...|\n",
            "| 53|     1|        29.95|104.8|               112.0|                68.0|           68.0|         109.0|           177.0|           0|  0|             1.0|       0.0|                 0|         0.0|                 1|     0.0|             0|      0.0|            0.0|           0.0|1.0|(2,[1],[1.0])|  (1,[0],[1.0])|(1,[0],[1.0])|      (4,[1],[1.0])|(1,[0],[1.0])|        (1,[0],[1.0])|  (1,[0],[1.0])|            (1,[],[])|(1,[0],[1.0])|    (1,[0],[1.0])|(1,[0],[1.0])|     (1,[0],[1.0])|    (1,[0],[1.0])|[0.0,1.0,1.0,1.0,...|[0.5,1.0,1.0,1.0,...|\n",
            "| 28|     1|        26.44| 85.9|               105.0|                69.0|           56.0|         219.0|           275.0|           1|  0|             3.0|       0.0|                 0|         0.0|                 1|     0.0|             0|      0.0|            0.0|           0.0|0.0|(2,[1],[1.0])|      (1,[],[])|(1,[0],[1.0])|      (4,[3],[1.0])|(1,[0],[1.0])|        (1,[0],[1.0])|  (1,[0],[1.0])|            (1,[],[])|(1,[0],[1.0])|    (1,[0],[1.0])|(1,[0],[1.0])|     (1,[0],[1.0])|    (1,[0],[1.0])|[0.0,1.0,0.0,1.0,...|[0.5,1.0,0.0,1.0,...|\n",
            "| 30|     1|        39.56|119.4|               108.0|                40.0|           58.0|         206.0|           264.0|           0|  0|             2.0|       0.0|                 0|         0.0|                 1|     0.0|             1|      0.0|            1.0|           0.0|0.0|(2,[1],[1.0])|  (1,[0],[1.0])|(1,[0],[1.0])|      (4,[2],[1.0])|(1,[0],[1.0])|        (1,[0],[1.0])|  (1,[0],[1.0])|            (1,[],[])|(1,[0],[1.0])|        (1,[],[])|(1,[0],[1.0])|         (1,[],[])|    (1,[0],[1.0])|[0.0,1.0,1.0,1.0,...|[0.5,1.0,1.0,1.0,...|\n",
            "| 52|     2|        27.86|105.9|               133.0|                77.0|           70.0|         108.0|           178.0|           0|  0|             1.0|       0.0|                 1|         1.0|                 1|     1.0|             0|      0.0|            0.0|           0.0|0.0|    (2,[],[])|  (1,[0],[1.0])|(1,[0],[1.0])|      (4,[1],[1.0])|(1,[0],[1.0])|            (1,[],[])|      (1,[],[])|            (1,[],[])|    (1,[],[])|    (1,[0],[1.0])|(1,[0],[1.0])|     (1,[0],[1.0])|    (1,[0],[1.0])|[0.0,0.0,1.0,1.0,...|[0.5,0.0,1.0,1.0,...|\n",
            "| 24|     1|        31.93| 86.2|               120.0|                78.0|           57.0|         140.0|           197.0|           0|  0|             2.0|       0.0|                 1|         0.0|                 0|     0.0|             1|      0.0|            0.0|           0.0|0.0|(2,[1],[1.0])|  (1,[0],[1.0])|(1,[0],[1.0])|      (4,[2],[1.0])|(1,[0],[1.0])|            (1,[],[])|  (1,[0],[1.0])|        (1,[0],[1.0])|(1,[0],[1.0])|        (1,[],[])|(1,[0],[1.0])|     (1,[0],[1.0])|    (1,[0],[1.0])|[0.0,1.0,1.0,1.0,...|[0.5,1.0,1.0,1.0,...|\n",
            "| 38|     1|        28.36| 90.0|               144.0|                90.0|           48.0|         163.0|           211.0|           0|  0|             1.0|       0.0|                 0|         1.0|                 1|     0.0|             1|      0.0|            0.0|           0.0|0.0|(2,[1],[1.0])|  (1,[0],[1.0])|(1,[0],[1.0])|      (4,[1],[1.0])|(1,[0],[1.0])|        (1,[0],[1.0])|      (1,[],[])|            (1,[],[])|(1,[0],[1.0])|        (1,[],[])|(1,[0],[1.0])|     (1,[0],[1.0])|    (1,[0],[1.0])|[0.0,1.0,1.0,1.0,...|[0.5,1.0,1.0,1.0,...|\n",
            "+---+------+-------------+-----+--------------------+--------------------+---------------+--------------+----------------+------------+---+----------------+----------+------------------+------------+------------------+--------+--------------+---------+---------------+--------------+---+-------------+---------------+-------------+-------------------+-------------+---------------------+---------------+---------------------+-------------+-----------------+-------------+------------------+-----------------+--------------------+--------------------+\n",
            "only showing top 20 rows\n",
            "\n"
          ],
          "name": "stdout"
        }
      ]
    },
    {
      "cell_type": "markdown",
      "metadata": {
        "id": "YR9cpdQyiM6E"
      },
      "source": [
        "Now that we have created the normalized features vector, let us go ahead and drop all the other columns from our dataset and retain only the label column(ALF) and the normalized features vector (features)."
      ]
    },
    {
      "cell_type": "code",
      "metadata": {
        "id": "ZNv4RkPYiM6F",
        "outputId": "f6312d5b-1822-4ebe-b47d-07dcbc26b0ac"
      },
      "source": [
        "df_normalized_data = df_normalized_data.drop('Age').drop('Gender').drop('BodyMassIndex').drop('Waist')\\\n",
        "                        .drop('MaximumBloodPressure').drop('MinimumBloodPressure').drop('GoodCholesterol') \\\n",
        "                        .drop('BadCholesterol').drop('TotalCholesterol').drop('Dyslipidemia').drop('PVD') \\\n",
        "                        .drop('PhysicalActivity').drop('PoorVision').drop('AlcoholConsumption').drop('HyperTension') \\\n",
        "                        .drop('FamilyHyperTension').drop('Diabetes').drop('FamilyDiabetes').drop('Hepatitis') \\\n",
        "                        .drop('FamilyHepatitis').drop('ChronicFatigue').drop('featuresVec').drop('GenderVec') \\\n",
        "                        .drop('DyslipidemiaVec').drop('PVDVec').drop('PhysicalActivityVec').drop('PoorVisionVec') \\\n",
        "                        .drop('AlcoholConsumptionVec').drop('HyperTensionVec').drop('FamilyHyperTensionVec') \\\n",
        "                        .drop('DiabetesVec').drop('FamilyDiabetesVec').drop('HepatitisVec').drop('FamilyHepatitisVec') \\\n",
        "                        .drop('ChronicFatigueVec')\n",
        "                    \n",
        "df_normalized_data.show()"
      ],
      "execution_count": null,
      "outputs": [
        {
          "output_type": "stream",
          "text": [
            "+---+--------------------+\n",
            "|ALF|            features|\n",
            "+---+--------------------+\n",
            "|0.0|[0.5,1.0,1.0,1.0,...|\n",
            "|0.0|[0.5,1.0,1.0,1.0,...|\n",
            "|0.0|[0.5,1.0,0.0,1.0,...|\n",
            "|0.0|[0.5,1.0,1.0,1.0,...|\n",
            "|0.0|[0.5,1.0,1.0,1.0,...|\n",
            "|0.0|[0.5,0.0,1.0,1.0,...|\n",
            "|0.0|[0.5,0.0,1.0,1.0,...|\n",
            "|0.0|[0.5,1.0,1.0,1.0,...|\n",
            "|0.0|[0.5,1.0,1.0,1.0,...|\n",
            "|0.0|[0.5,0.0,1.0,1.0,...|\n",
            "|0.0|[0.5,0.0,1.0,1.0,...|\n",
            "|0.0|[0.5,1.0,1.0,1.0,...|\n",
            "|0.0|[0.5,1.0,1.0,1.0,...|\n",
            "|0.0|[0.5,1.0,1.0,1.0,...|\n",
            "|1.0|[0.5,1.0,1.0,1.0,...|\n",
            "|0.0|[0.5,1.0,0.0,1.0,...|\n",
            "|0.0|[0.5,1.0,1.0,1.0,...|\n",
            "|0.0|[0.5,0.0,1.0,1.0,...|\n",
            "|0.0|[0.5,1.0,1.0,1.0,...|\n",
            "|0.0|[0.5,1.0,1.0,1.0,...|\n",
            "+---+--------------------+\n",
            "only showing top 20 rows\n",
            "\n"
          ],
          "name": "stdout"
        }
      ]
    },
    {
      "cell_type": "markdown",
      "metadata": {
        "id": "qm5IT8U_iM6G"
      },
      "source": [
        "### 3.3. Store Feature Engineered Data in IBM Object Store\n",
        "\n",
        "Let us go ahead and persist our feature engineered data into the IBM Object store for us to be able to use it in the next step of our process i.e. Model Definition."
      ]
    },
    {
      "cell_type": "code",
      "metadata": {
        "id": "p1LtrzijiM6G"
      },
      "source": [
        "df_normalized_data = df_normalized_data.repartition(1)\n",
        "df_normalized_data.write.parquet(cos.url('ALF_Normalized.parquet', \n",
        "                                         'fundamentalsofscalabledatascience-donotdelete-pr-qbkdskud4vsck0'))"
      ],
      "execution_count": null,
      "outputs": []
    },
    {
      "cell_type": "markdown",
      "metadata": {
        "id": "ekH4dqQxiM6G"
      },
      "source": [
        "Now that the data has been persisted in the IBM Object store, let us check and confirm that the data persisted is looking good."
      ]
    },
    {
      "cell_type": "code",
      "metadata": {
        "id": "CTiVV_jJiM6G",
        "outputId": "e4fd480f-7396-407e-97b9-470136c59229"
      },
      "source": [
        "df_persisted_data = spark.read.parquet(cos.url('ALF_Normalized.parquet', \n",
        "                                               'fundamentalsofscalabledatascience-donotdelete-pr-qbkdskud4vsck0'))\n",
        "print('Number of records persisted = ', df_persisted_data.count())\n",
        "df_persisted_data.show()"
      ],
      "execution_count": null,
      "outputs": [
        {
          "output_type": "stream",
          "text": [
            "Number of records persisted =  5221\n",
            "+---+--------------------+\n",
            "|ALF|            features|\n",
            "+---+--------------------+\n",
            "|0.0|[0.5,1.0,1.0,1.0,...|\n",
            "|0.0|[0.5,1.0,1.0,1.0,...|\n",
            "|0.0|[0.5,1.0,0.0,1.0,...|\n",
            "|0.0|[0.5,1.0,1.0,1.0,...|\n",
            "|0.0|[0.5,1.0,1.0,1.0,...|\n",
            "|0.0|[0.5,0.0,1.0,1.0,...|\n",
            "|0.0|[0.5,0.0,1.0,1.0,...|\n",
            "|0.0|[0.5,1.0,1.0,1.0,...|\n",
            "|0.0|[0.5,1.0,1.0,1.0,...|\n",
            "|0.0|[0.5,0.0,1.0,1.0,...|\n",
            "|0.0|[0.5,0.0,1.0,1.0,...|\n",
            "|0.0|[0.5,1.0,1.0,1.0,...|\n",
            "|0.0|[0.5,1.0,1.0,1.0,...|\n",
            "|0.0|[0.5,1.0,1.0,1.0,...|\n",
            "|1.0|[0.5,1.0,1.0,1.0,...|\n",
            "|0.0|[0.5,1.0,0.0,1.0,...|\n",
            "|0.0|[0.5,1.0,1.0,1.0,...|\n",
            "|0.0|[0.5,0.0,1.0,1.0,...|\n",
            "|0.0|[0.5,1.0,1.0,1.0,...|\n",
            "|0.0|[0.5,1.0,1.0,1.0,...|\n",
            "+---+--------------------+\n",
            "only showing top 20 rows\n",
            "\n"
          ],
          "name": "stdout"
        }
      ]
    },
    {
      "cell_type": "markdown",
      "metadata": {
        "id": "ipIuqTWuiM6H"
      },
      "source": [
        "The feature engineered data persisted in the Object store is looking good. Now we can go ahead and define our Model in the next step of our process."
      ]
    }
  ]
}